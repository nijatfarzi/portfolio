{
 "cells": [
  {
   "cell_type": "code",
   "execution_count": null,
   "id": "cf8e092e",
   "metadata": {},
   "outputs": [
    {
     "name": "stdout",
     "output_type": "stream",
     "text": [
      "   film_id              title  \\\n",
      "0      133    Chamber Italian   \n",
      "1      384   Grosse Wonderful   \n",
      "2        8    Airport Pollock   \n",
      "3       98  Bright Encounters   \n",
      "4        1   Academy Dinosaur   \n",
      "\n",
      "                                         description  release_year  \\\n",
      "0  A Fateful Reflection of a Moose And a Husband ...          2006   \n",
      "1  A Epic Drama of a Cat And a Explorer who must ...          2006   \n",
      "2  A Epic Tale of a Moose And a Girl who must Con...          2006   \n",
      "3  A Fateful Yarn of a Lumberjack And a Feminist ...          2006   \n",
      "4  A Epic Drama of a Feminist And a Mad Scientist...          2006   \n",
      "\n",
      "   language_id  rental_duration  rental_rate  length  replacement_cost rating  \\\n",
      "0            1                7         4.99     117             14.99  NC-17   \n",
      "1            1                5         4.99      49             19.99      R   \n",
      "2            1                6         4.99      54             15.99      R   \n",
      "3            1                4         4.99      73             12.99  PG-13   \n",
      "4            1                6         0.99      86             20.99     PG   \n",
      "\n",
      "              last_update                     special_features  \\\n",
      "0 2013-05-26 14:50:58.951                           [Trailers]   \n",
      "1 2013-05-26 14:50:58.951                  [Behind the Scenes]   \n",
      "2 2013-05-26 14:50:58.951                           [Trailers]   \n",
      "3 2013-05-26 14:50:58.951                           [Trailers]   \n",
      "4 2013-05-26 14:50:58.951  [Deleted Scenes, Behind the Scenes]   \n",
      "\n",
      "                                            fulltext  \n",
      "0  'chamber':1 'fate':4 'husband':11 'italian':2 ...  \n",
      "1  'australia':18 'cat':8 'drama':5 'epic':4 'exp...  \n",
      "2  'airport':1 'ancient':18 'confront':14 'epic':...  \n",
      "3  'boat':20 'bright':1 'conquer':14 'encount':2 ...  \n",
      "4  'academi':1 'battl':15 'canadian':20 'dinosaur...  \n",
      "KANKA PYTHON CSV TAMAM! 💥🔥\n"
     ]
    },
    {
     "name": "stderr",
     "output_type": "stream",
     "text": [
      "C:\\Users\\nicat\\AppData\\Local\\Temp\\ipykernel_4752\\3820848470.py:13: UserWarning: pandas only supports SQLAlchemy connectable (engine/connection) or database string URI or sqlite3 DBAPI2 connection. Other DBAPI2 objects are not tested. Please consider using SQLAlchemy.\n",
      "  df = pd.read_sql_query(\"SELECT * FROM film\", conn)\n"
     ]
    }
   ],
   "source": [
    "import pandas as pd\n",
    "import psycopg2\n",
    "\n",
    "# Bağlantı\n",
    "conn = psycopg2.connect(\n",
    "    host=\"localhost\",\n",
    "    database=\"DVD_Rental\",\n",
    "    user=\"postgres\",\n",
    "    password=\"\"   # şifre\n",
    ")\n",
    "\n",
    "# Veri çekme\n",
    "df = pd.read_sql_query(\"SELECT * FROM film\", conn)\n",
    "\n",
    "# İlk satırlar\n",
    "print(df.head())\n",
    "\n",
    "# CSV'ye yazmak istersen\n",
    "df.to_csv(\"C:/Users/nicat/Desktop/film_python.csv\", index=False)\n",
    "\n",
    "# Bağlantıyı kapat\n",
    "conn.close()\n",
    "\n",
    "\n"
   ]
  }
 ],
 "metadata": {
  "kernelspec": {
   "display_name": "Python 3",
   "language": "python",
   "name": "python3"
  },
  "language_info": {
   "codemirror_mode": {
    "name": "ipython",
    "version": 3
   },
   "file_extension": ".py",
   "mimetype": "text/x-python",
   "name": "python",
   "nbconvert_exporter": "python",
   "pygments_lexer": "ipython3",
   "version": "3.13.2"
  }
 },
 "nbformat": 4,
 "nbformat_minor": 5
}
