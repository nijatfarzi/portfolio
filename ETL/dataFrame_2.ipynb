{
 "cells": [
  {
   "cell_type": "code",
   "execution_count": 4,
   "metadata": {},
   "outputs": [
    {
     "name": "stdout",
     "output_type": "stream",
     "text": [
      "     isim   yas     sehir\n",
      "0     Ali  25.0    Ankara\n",
      "1    Ayşe   NaN  İstanbul\n",
      "2  Mehmet  22.0       NaN\n",
      "3  Zeynep  27.0     Bursa\n",
      "4   Ahmet   NaN     İzmir\n"
     ]
    },
    {
     "data": {
      "text/html": [
       "<div>\n",
       "<style scoped>\n",
       "    .dataframe tbody tr th:only-of-type {\n",
       "        vertical-align: middle;\n",
       "    }\n",
       "\n",
       "    .dataframe tbody tr th {\n",
       "        vertical-align: top;\n",
       "    }\n",
       "\n",
       "    .dataframe thead th {\n",
       "        text-align: right;\n",
       "    }\n",
       "</style>\n",
       "<table border=\"1\" class=\"dataframe\">\n",
       "  <thead>\n",
       "    <tr style=\"text-align: right;\">\n",
       "      <th></th>\n",
       "      <th>isim</th>\n",
       "      <th>yas</th>\n",
       "      <th>sehir</th>\n",
       "    </tr>\n",
       "  </thead>\n",
       "  <tbody>\n",
       "    <tr>\n",
       "      <th>0</th>\n",
       "      <td>Ali</td>\n",
       "      <td>25.0</td>\n",
       "      <td>Ankara</td>\n",
       "    </tr>\n",
       "    <tr>\n",
       "      <th>1</th>\n",
       "      <td>Ayşe</td>\n",
       "      <td>0.0</td>\n",
       "      <td>İstanbul</td>\n",
       "    </tr>\n",
       "    <tr>\n",
       "      <th>2</th>\n",
       "      <td>Mehmet</td>\n",
       "      <td>22.0</td>\n",
       "      <td>Bilinmiyor</td>\n",
       "    </tr>\n",
       "    <tr>\n",
       "      <th>3</th>\n",
       "      <td>Zeynep</td>\n",
       "      <td>27.0</td>\n",
       "      <td>Bursa</td>\n",
       "    </tr>\n",
       "    <tr>\n",
       "      <th>4</th>\n",
       "      <td>Ahmet</td>\n",
       "      <td>0.0</td>\n",
       "      <td>İzmir</td>\n",
       "    </tr>\n",
       "  </tbody>\n",
       "</table>\n",
       "</div>"
      ],
      "text/plain": [
       "     isim   yas       sehir\n",
       "0     Ali  25.0      Ankara\n",
       "1    Ayşe   0.0    İstanbul\n",
       "2  Mehmet  22.0  Bilinmiyor\n",
       "3  Zeynep  27.0       Bursa\n",
       "4   Ahmet   0.0       İzmir"
      ]
     },
     "execution_count": 4,
     "metadata": {},
     "output_type": "execute_result"
    }
   ],
   "source": [
    "## 🧪 1. Eksik Veri (Missing Values) Nedir?\n",
    "\n",
    "# Veri setinde bazen boş hücreler olur:  \n",
    "# - Kullanıcı doldurmamış  \n",
    "# - Sistem kaydetmemiş  \n",
    "# - Hata olmuş vs.\n",
    "\n",
    "# Pandas’ta eksik veriler `NaN` (Not a Number) olarak görünür.\n",
    "\n",
    "## 🧰 2. Örnek DataFrame – İçinde eksik veri olan tablo\n",
    "\n",
    "import pandas as pd\n",
    "import numpy as np\n",
    "\n",
    "veri = {\n",
    "    \"isim\": [\"Ali\", \"Ayşe\", \"Mehmet\", \"Zeynep\", \"Ahmet\"],\n",
    "    \"yas\": [25, np.nan, 22, 27, np.nan],\n",
    "    \"sehir\": [\"Ankara\", \"İstanbul\", np.nan, \"Bursa\", \"İzmir\"]\n",
    "}\n",
    "\n",
    "df = pd.DataFrame(veri)\n",
    "print(df)\n",
    "\n",
    "## 🔍 3. Eksik Veriyi Tespit Etme\n",
    "\n",
    "\n",
    "df.isnull()            # Nereler eksik? (True/False tablosu)\n",
    "df.isnull().sum()      # Hangi sütunda kaç tane eksik var?\n",
    "df.notnull()           # Dolular için True verir\n",
    "\n",
    "\n",
    "# 🧠 Örnek çıktı:\n",
    "# yas      2\n",
    "# sehir    1\n",
    "\n",
    "\n",
    "## 🛠️ 4. Eksik Veriyi Doldurma\n",
    "\n",
    "\n",
    "df[\"yas\"].fillna(0)                     # Boş yaşları 0 yap\n",
    "df[\"yas\"].fillna(df[\"yas\"].mean())     # Boş yaşları ortalama ile doldur\n",
    "\n",
    "\n",
    "# **Kalıcı hale getirmek için:**\n",
    "\n",
    "df[\"yas\"] = df[\"yas\"].fillna(0)\n",
    "\n",
    "\n",
    "## ❌ 5. Eksik Veriyi Silme\n",
    "\n",
    "\n",
    "df.dropna()             # Eksik verisi olan satırı tamamen siler\n",
    "df.dropna(subset=[\"yas\"])  # Sadece \"yas\" sütunu eksikse sil\n",
    "\n",
    "\n",
    "## 🎯 Mini Challenge:\n",
    "# 1. Sana verdiğim DataFrame'deki boş yaşları ortalama ile doldur.\n",
    "\n",
    "df[\"yas\"]= df[\"yas\"].fillna(df[\"yas\"].mean())  \n",
    "\n",
    "# 2. Eksik şehirleri \"Bilinmiyor\" olarak doldur.\n",
    "df[\"sehir\"]=df[\"sehir\"].fillna(\"Bilinmiyor\")\n",
    "  \n",
    "# 3. Son halini yazdır.\n",
    "df"
   ]
  },
  {
   "cell_type": "code",
   "execution_count": null,
   "metadata": {},
   "outputs": [
    {
     "name": "stdout",
     "output_type": "stream",
     "text": [
      "      sehir magaza  satis\n",
      "0    Ankara   A101    100\n",
      "1  İstanbul    BİM    200\n",
      "2     İzmir   A101    150\n",
      "3     Bursa    ŞOK    120\n",
      "4  İstanbul   A101    300\n",
      "5    Ankara    ŞOK     80\n"
     ]
    },
    {
     "data": {
      "text/plain": [
       "<pandas.core.groupby.generic.SeriesGroupBy object at 0x000001A13DCFF290>"
      ]
     },
     "execution_count": 5,
     "metadata": {},
     "output_type": "execute_result"
    }
   ],
   "source": [
    "## 📌 1. `groupby()` Nedir?\n",
    "\n",
    "# Pandas’ta `groupby()`, verileri bir veya daha fazla sütuna göre gruplandırır.  \n",
    "# Sonra her grubun **ortalama, toplam, adet** gibi istatistiklerini hesaplamamıza olanak sağlar.\n",
    "\n",
    "\n",
    "## 🧱 Örnek Veri\n",
    "\n",
    "# Önce örnek bir DataFrame hazırlayalım:\n",
    "\n",
    "import pandas as pd\n",
    "\n",
    "veri = {\n",
    "    \"sehir\": [\"Ankara\", \"İstanbul\", \"İzmir\", \"Bursa\", \"İstanbul\", \"Ankara\"],\n",
    "    \"magaza\": [\"A101\", \"BİM\", \"A101\", \"ŞOK\", \"A101\", \"ŞOK\"],\n",
    "    \"satis\": [100, 200, 150, 120, 300, 80]\n",
    "}\n",
    "\n",
    "df = pd.DataFrame(veri)\n",
    "print(df)\n",
    "\n",
    "## 🔍 2. Şehre Göre Toplam Satış\n",
    "\n",
    "\n",
    "df.groupby(\"sehir\")[\"satis\"].sum()\n",
    "\n",
    "# ✅ Bu ne yapar?  \n",
    "# Her şehrin toplam satışını hesaplar.\n",
    "\n",
    "\n",
    "## 🔍 3. Mağazaya Göre Ortalama Satış\n",
    "\n",
    "\n",
    "df.groupby(\"magaza\")[\"satis\"].mean()\n",
    "\n",
    "# ✅ Her mağaza için ortalama satış gelir.\n",
    "\n",
    "\n",
    "## 🔍 4. Çoklu Gruplama – Şehir ve Mağaza\n",
    "\n",
    "df.groupby([\"sehir\", \"magaza\"])[\"satis\"].sum()\n",
    "\n",
    "# ✅ Her şehirdeki her mağazanın toplam satışını verir → ***çapraz analiz!***\n",
    "\n",
    "## 🎯 Mini Challenge:\n",
    "\n",
    "# Senin görevin:\n",
    "\n",
    "# 1. `sehir` sütununa göre ortalama satışları yazdır.  \n",
    "df.groupby(\"sehir\")[\"satis\"].mean()\n",
    "\n",
    "# 2. `magaza` sütununa göre satış toplamlarını yazdır.  \n",
    "df.groupby(\"magaza\")[\"satis\"].sum()\n",
    "\n",
    "# 3. Hem `sehir` hem `magaza` gruplamasına göre satışları getir.\n",
    "df.groupby([\"sehir\",\"magaza\"])[\"satis\"].sum()\n"
   ]
  },
  {
   "cell_type": "code",
   "execution_count": null,
   "metadata": {},
   "outputs": [
    {
     "name": "stdout",
     "output_type": "stream",
     "text": [
      "yok\n",
      "yok\n"
     ]
    }
   ],
   "source": [
    "df = pd.read_csv(r\"C:\\Users\\nicat\\PYTHON\\PANDAS\\gpt\\HR Data.csv\")\n",
    "df\n",
    "df.head() # ilk 5 satir , yad ne arguman verirsen\n",
    "df.describe() # acikla\n",
    "df.dtypes # veri tip kontrol\n",
    "bos_kontrol = lambda df: \"bos\" if df.isnull().sum().sum() > 0 else \"yok\"\n",
    "print(bos_kontrol(df))\n",
    "\n",
    "def eksik_var_mi(df):\n",
    "    return \"bos\" if df.isnull().sum().sum() > 0 else \"yok\"\n",
    "print(eksik_var_mi(df))\n"
   ]
  },
  {
   "cell_type": "code",
   "execution_count": 31,
   "metadata": {},
   "outputs": [
    {
     "data": {
      "text/plain": [
       "Age  Attrition  BusinessTravel     DailyRate  Department              DistanceFromHome  Education  EducationField    EmployeeCount  EmployeeNumber  Gender  JobRole                    JobSatisfaction  MaritalStatus  MonthlyIncome  MonthlyRate  Over18  OverTime  PerformanceRating  TotalWorkingYears\n",
       "60   No         Travel_Rarely      1179       Sales                   16                4          Marketing         1              732             Male    Sales Executive            1                Single         5405           11924        Y       No        3                  10                   1\n",
       "58   Yes        Travel_Rarely      289        Research & Development  2                 3          Technical Degree  1              977             Male    Research Scientist         3                Single         2479           26227        Y       No        4                  7                    1\n",
       "                                   286        Research & Development  2                 4          Life Sciences     1              825             Male    Research Director          2                Single         19246          25761        Y       Yes       3                  40                   1\n",
       "                                   147        Research & Development  23                4          Medical           1              165             Female  Healthcare Representative  4                Married        10312          3465         Y       No        3                  40                   1\n",
       "                Travel_Frequently  781        Research & Development  2                 1          Life Sciences     1              918             Male    Laboratory Technician      4                Divorced       2380           13384        Y       Yes       3                  3                    1\n",
       "                                                                                                                                                                                                                                                                                                            ..\n",
       "41   No         Travel_Frequently  840        Research & Development  9                 3          Medical           1              999             Male    Research Director          3                Divorced       19419          3735         Y       No        3                  21                   1\n",
       "                Non-Travel         552        Human Resources         4                 3          Human Resources   1              1722            Male    Human Resources            2                Married        6430           20794        Y       No        3                  10                   1\n",
       "                                   509        Research & Development  2                 4          Other             1              616             Female  Healthcare Representative  3                Single         6811           2112         Y       Yes       3                  10                   1\n",
       "                                   267        Sales                   10                2          Life Sciences     1              599             Male    Sales Executive            4                Single         6230           13430        Y       No        3                  16                   1\n",
       "                                   256        Sales                   10                2          Medical           1              1329            Male    Sales Executive            2                Single         6151           22074        Y       No        3                  19                   1\n",
       "Name: count, Length: 465, dtype: int64"
      ]
     },
     "execution_count": 31,
     "metadata": {},
     "output_type": "execute_result"
    }
   ],
   "source": [
    "df\n",
    "df[\"Department\"].value_counts()\n",
    "df[\"Department\"].value_counts().max()\n",
    "df[df[\"Age\"]>40].value_counts()"
   ]
  }
 ],
 "metadata": {
  "kernelspec": {
   "display_name": "Python 3",
   "language": "python",
   "name": "python3"
  },
  "language_info": {
   "codemirror_mode": {
    "name": "ipython",
    "version": 3
   },
   "file_extension": ".py",
   "mimetype": "text/x-python",
   "name": "python",
   "nbconvert_exporter": "python",
   "pygments_lexer": "ipython3",
   "version": "3.13.2"
  }
 },
 "nbformat": 4,
 "nbformat_minor": 2
}
