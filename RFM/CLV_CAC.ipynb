{
 "cells": [
  {
   "cell_type": "code",
   "execution_count": 2,
   "id": "5ee18fd3",
   "metadata": {},
   "outputs": [],
   "source": [
    "import pandas as pd\n",
    "df = pd.read_excel(\"Əsas data.xlsx\")\n",
    "df.head(5)\n",
    "\n",
    "df[\"Order Date\"] = pd.to_datetime(df[\"Order Date\"])"
   ]
  },
  {
   "cell_type": "markdown",
   "id": "68a21aa6",
   "metadata": {},
   "source": [
    "# RFM"
   ]
  },
  {
   "cell_type": "code",
   "execution_count": 3,
   "id": "57f6581d",
   "metadata": {},
   "outputs": [],
   "source": [
    "current_day = df[\"Order Date\"].max() + pd.Timedelta(days=1)"
   ]
  },
  {
   "cell_type": "code",
   "execution_count": 4,
   "id": "14fce7f4",
   "metadata": {},
   "outputs": [],
   "source": [
    "rfm_df = df.groupby(\"Customer ID\").agg({\n",
    "    \"Order Date\" : lambda x: (current_day - x.max()).days,\n",
    "    \"Order ID\" : \"nunique\",\n",
    "    \"Sales\" : \"sum\"\n",
    "}).reset_index()\n",
    "\n",
    "rfm_df.columns = [\"Customer ID\",\"Recency\",\"Frequency\",\"Monetary\"]"
   ]
  },
  {
   "cell_type": "markdown",
   "id": "63eb2026",
   "metadata": {},
   "source": [
    "# CLV"
   ]
  },
  {
   "cell_type": "code",
   "execution_count": 5,
   "id": "5505d867",
   "metadata": {},
   "outputs": [],
   "source": [
    "ilk_sifaris_tarixi = df.groupby('Customer ID')['Order Date'].min().reset_index()\n",
    "ilk_sifaris_tarixi['Year'] = ilk_sifaris_tarixi['Order Date'].dt.year\n",
    "yeni_musteriler = ilk_sifaris_tarixi[ilk_sifaris_tarixi['Year'] == 2014]\n",
    "\n",
    "rfm_yeni = rfm_df[rfm_df[\"Customer ID\"].isin(yeni_musteriler[\"Customer ID\"])].copy()\n",
    "\n",
    "rfm_yeni['CLV'] = rfm_yeni['Monetary'] * 2"
   ]
  },
  {
   "cell_type": "markdown",
   "id": "2bc9e09b",
   "metadata": {},
   "source": [
    "# CAC"
   ]
  },
  {
   "cell_type": "code",
   "execution_count": 6,
   "id": "e24fcff3",
   "metadata": {},
   "outputs": [],
   "source": [
    "total_marketing_cost = 100000\n",
    "new_customer_count = rfm_yeni.shape[0]\n",
    "cac = total_marketing_cost / new_customer_count\n",
    "\n",
    "rfm_yeni[\"CAC\"] = round(cac)"
   ]
  },
  {
   "cell_type": "markdown",
   "id": "15c7efb3",
   "metadata": {},
   "source": [
    "# CLV to CAC"
   ]
  },
  {
   "cell_type": "code",
   "execution_count": 7,
   "id": "4c73765b",
   "metadata": {},
   "outputs": [
    {
     "data": {
      "text/html": [
       "<div>\n",
       "<style scoped>\n",
       "    .dataframe tbody tr th:only-of-type {\n",
       "        vertical-align: middle;\n",
       "    }\n",
       "\n",
       "    .dataframe tbody tr th {\n",
       "        vertical-align: top;\n",
       "    }\n",
       "\n",
       "    .dataframe thead th {\n",
       "        text-align: right;\n",
       "    }\n",
       "</style>\n",
       "<table border=\"1\" class=\"dataframe\">\n",
       "  <thead>\n",
       "    <tr style=\"text-align: right;\">\n",
       "      <th></th>\n",
       "      <th>Customer ID</th>\n",
       "      <th>CLV</th>\n",
       "      <th>CAC</th>\n",
       "      <th>CLV_to_CAC</th>\n",
       "      <th>STATUS</th>\n",
       "    </tr>\n",
       "  </thead>\n",
       "  <tbody>\n",
       "    <tr>\n",
       "      <th>16</th>\n",
       "      <td>AA-3151</td>\n",
       "      <td>21.48</td>\n",
       "      <td>408</td>\n",
       "      <td>0.0</td>\n",
       "      <td>Zararli</td>\n",
       "    </tr>\n",
       "    <tr>\n",
       "      <th>51</th>\n",
       "      <td>AB-1052</td>\n",
       "      <td>127.92</td>\n",
       "      <td>408</td>\n",
       "      <td>0.0</td>\n",
       "      <td>Zararli</td>\n",
       "    </tr>\n",
       "    <tr>\n",
       "      <th>60</th>\n",
       "      <td>AB-1651</td>\n",
       "      <td>320.22</td>\n",
       "      <td>408</td>\n",
       "      <td>1.0</td>\n",
       "      <td>Basabas</td>\n",
       "    </tr>\n",
       "    <tr>\n",
       "      <th>64</th>\n",
       "      <td>AB-2552</td>\n",
       "      <td>566.10</td>\n",
       "      <td>408</td>\n",
       "      <td>1.0</td>\n",
       "      <td>Basabas</td>\n",
       "    </tr>\n",
       "    <tr>\n",
       "      <th>66</th>\n",
       "      <td>AB-6001</td>\n",
       "      <td>2764.74</td>\n",
       "      <td>408</td>\n",
       "      <td>7.0</td>\n",
       "      <td>Karli</td>\n",
       "    </tr>\n",
       "  </tbody>\n",
       "</table>\n",
       "</div>"
      ],
      "text/plain": [
       "   Customer ID      CLV  CAC  CLV_to_CAC   STATUS\n",
       "16     AA-3151    21.48  408         0.0  Zararli\n",
       "51     AB-1052   127.92  408         0.0  Zararli\n",
       "60     AB-1651   320.22  408         1.0  Basabas\n",
       "64     AB-2552   566.10  408         1.0  Basabas\n",
       "66     AB-6001  2764.74  408         7.0    Karli"
      ]
     },
     "execution_count": 7,
     "metadata": {},
     "output_type": "execute_result"
    }
   ],
   "source": [
    "rfm_yeni[\"CLV_to_CAC\"] = (rfm_yeni['CLV'] / rfm_yeni['CAC']).round()\n",
    "\n",
    "rfm_yeni[\"STATUS\"] = rfm_yeni[\"CLV_to_CAC\"].apply(lambda x: \"Karli\" if x>3 else \"Basabas\" if x >= 1 else \"Zararli\")\n",
    "\n",
    "rfm_yeni[[\"Customer ID\",\"CLV\",\"CAC\",\"CLV_to_CAC\",\"STATUS\"]].head()"
   ]
  },
  {
   "cell_type": "markdown",
   "id": "7a51ffa3",
   "metadata": {},
   "source": [
    "# Pie Chart"
   ]
  },
  {
   "cell_type": "code",
   "execution_count": 9,
   "id": "fa6067a9",
   "metadata": {},
   "outputs": [
    {
     "data": {
      "image/png": "[encoded data removed]",
      "text/plain": [
       "<Figure size 600x400 with 1 Axes>"
      ]
     },
     "metadata": {},
     "output_type": "display_data"
    }
   ],
   "source": [
    "status_counts = rfm_yeni[\"STATUS\"].value_counts()\n",
    "\n",
    "import matplotlib.pyplot as plt\n",
    "\n",
    "plt.figure(figsize=(6,4))\n",
    "plt.pie(status_counts, labels= status_counts.index, autopct=\"%1.1F%%\", startangle=140)\n",
    "plt.title(\"CLV to CAC Status Distribution\")\n",
    "plt.axis(\"equal\")\n",
    "plt.tight_layout()\n",
    "plt.show()"
   ]
  }
 ],
 "metadata": {
  "kernelspec": {
   "display_name": "Python 3",
   "language": "python",
   "name": "python3"
  },
  "language_info": {
   "codemirror_mode": {
    "name": "ipython",
    "version": 3
   },
   "file_extension": ".py",
   "mimetype": "text/x-python",
   "name": "python",
   "nbconvert_exporter": "python",
   "pygments_lexer": "ipython3",
   "version": "3.13.2"
  }
 },
 "nbformat": 4,
 "nbformat_minor": 5
}
