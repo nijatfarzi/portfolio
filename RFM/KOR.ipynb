{
 "cells": [
  {
   "cell_type": "code",
   "execution_count": 6,
   "id": "036b23b1",
   "metadata": {},
   "outputs": [
    {
     "data": {
      "text/html": [
       "<div>\n",
       "<style scoped>\n",
       "    .dataframe tbody tr th:only-of-type {\n",
       "        vertical-align: middle;\n",
       "    }\n",
       "\n",
       "    .dataframe tbody tr th {\n",
       "        vertical-align: top;\n",
       "    }\n",
       "\n",
       "    .dataframe thead th {\n",
       "        text-align: right;\n",
       "    }\n",
       "</style>\n",
       "<table border=\"1\" class=\"dataframe\">\n",
       "  <thead>\n",
       "    <tr style=\"text-align: right;\">\n",
       "      <th></th>\n",
       "      <th>CustomerID</th>\n",
       "      <th>Recency</th>\n",
       "      <th>Frequency</th>\n",
       "      <th>Monetary</th>\n",
       "      <th>R_Score</th>\n",
       "      <th>F_Score</th>\n",
       "      <th>M_Score</th>\n",
       "      <th>RFM_Score</th>\n",
       "      <th>Segment</th>\n",
       "    </tr>\n",
       "  </thead>\n",
       "  <tbody>\n",
       "    <tr>\n",
       "      <th>0</th>\n",
       "      <td>AA-103151</td>\n",
       "      <td>9</td>\n",
       "      <td>5</td>\n",
       "      <td>1445.406</td>\n",
       "      <td>5</td>\n",
       "      <td>3</td>\n",
       "      <td>3</td>\n",
       "      <td>533</td>\n",
       "      <td>Recent</td>\n",
       "    </tr>\n",
       "    <tr>\n",
       "      <th>1</th>\n",
       "      <td>AA-103152</td>\n",
       "      <td>14</td>\n",
       "      <td>7</td>\n",
       "      <td>6105.627</td>\n",
       "      <td>5</td>\n",
       "      <td>4</td>\n",
       "      <td>5</td>\n",
       "      <td>545</td>\n",
       "      <td>VIP</td>\n",
       "    </tr>\n",
       "    <tr>\n",
       "      <th>2</th>\n",
       "      <td>AA-103153</td>\n",
       "      <td>609</td>\n",
       "      <td>2</td>\n",
       "      <td>632.820</td>\n",
       "      <td>1</td>\n",
       "      <td>1</td>\n",
       "      <td>2</td>\n",
       "      <td>112</td>\n",
       "      <td>Others</td>\n",
       "    </tr>\n",
       "    <tr>\n",
       "      <th>3</th>\n",
       "      <td>AA-103154</td>\n",
       "      <td>185</td>\n",
       "      <td>5</td>\n",
       "      <td>5563.560</td>\n",
       "      <td>2</td>\n",
       "      <td>3</td>\n",
       "      <td>5</td>\n",
       "      <td>235</td>\n",
       "      <td>High Value</td>\n",
       "    </tr>\n",
       "    <tr>\n",
       "      <th>4</th>\n",
       "      <td>AA-103751</td>\n",
       "      <td>7</td>\n",
       "      <td>4</td>\n",
       "      <td>2407.245</td>\n",
       "      <td>5</td>\n",
       "      <td>2</td>\n",
       "      <td>3</td>\n",
       "      <td>523</td>\n",
       "      <td>Recent</td>\n",
       "    </tr>\n",
       "  </tbody>\n",
       "</table>\n",
       "</div>"
      ],
      "text/plain": [
       "  CustomerID  Recency  Frequency  Monetary  R_Score  F_Score  M_Score  \\\n",
       "0  AA-103151        9          5  1445.406        5        3        3   \n",
       "1  AA-103152       14          7  6105.627        5        4        5   \n",
       "2  AA-103153      609          2   632.820        1        1        2   \n",
       "3  AA-103154      185          5  5563.560        2        3        5   \n",
       "4  AA-103751        7          4  2407.245        5        2        3   \n",
       "\n",
       "  RFM_Score     Segment  \n",
       "0       533      Recent  \n",
       "1       545         VIP  \n",
       "2       112      Others  \n",
       "3       235  High Value  \n",
       "4       523      Recent  "
      ]
     },
     "execution_count": 6,
     "metadata": {},
     "output_type": "execute_result"
    }
   ],
   "source": [
    "import pandas as pd \n",
    "df = pd.read_excel(\"Əsas data.xlsx\", sheet_name=\"Əsas data\")\n",
    "\n",
    "# tarix sutununun deqiqlesdir\n",
    "df[\"Order Date\"] = pd.to_datetime(df[\"Order Date\"])\n",
    "\n",
    "# analiz gunu sec\n",
    "current_day = df[\"Order Date\"].max() + pd.Timedelta(days=1)\n",
    "\n",
    "# RFM dataframe\n",
    "rfm_df = df.groupby(\"Customer ID\").agg({\n",
    "    \"Order Date\" : lambda  x: (current_day- x.max()).days, # recency\n",
    "    \"Order ID\" : \"nunique\",  # frequency\n",
    "    \"Sales\" : \"sum\"     # monetary\n",
    "}).reset_index()\n",
    "\n",
    "rfm_df.columns = [\"CustomerID\", \"Recency\", \"Frequency\", \"Monetary\"]\n",
    "\n",
    "rfm_df[\"R_Score\"] = pd.qcut(rfm_df[\"Recency\"], 5, labels=[5,4,3,2,1]).astype(int)\n",
    "rfm_df[\"F_Score\"] = pd.qcut(rfm_df[\"Frequency\"].rank(method=\"first\"), 5, labels=[1,2,3,4,5]).astype(int)\n",
    "rfm_df[\"M_Score\"] = pd.qcut(rfm_df[\"Monetary\"], 5, labels=[1,2,3,4,5]).astype(int)\n",
    "\n",
    "rfm_df[\"RFM_Score\"] = (\n",
    "    rfm_df[\"R_Score\"].astype(str) +\n",
    "    rfm_df[\"F_Score\"].astype(str) + \n",
    "    rfm_df[\"M_Score\"].astype(str)\n",
    ")\n",
    "\n",
    "def segments(row):\n",
    "    if row[\"R_Score\"] >= 4 and row[\"F_Score\"] >= 4 and row[\"M_Score\"] >= 4:\n",
    "        return \"VIP\"\n",
    "    elif row[\"R_Score\"] >= 4:\n",
    "        return \"Recent\"\n",
    "    elif row[\"F_Score\"] >= 4:\n",
    "        return \"Freguent\"\n",
    "    elif row[\"M_Score\"] >= 4:\n",
    "        return \"High Value\"\n",
    "    elif row[\"R_Score\"] >= 2 and row[\"F_Score\"] >= 2 and row[\"M_Score\"] >= 2:\n",
    "        return \"At Risk\"\n",
    "    else:\n",
    "        return \"Others\"\n",
    "    \n",
    "rfm_df[\"Segment\"] = rfm_df.apply(segments, axis= 1)\n",
    "\n",
    "rfm_df.head(5)\n",
    "\n"
   ]
  },
  {
   "cell_type": "code",
   "execution_count": null,
   "id": "a9f1b2d0",
   "metadata": {},
   "outputs": [
    {
     "name": "stdout",
     "output_type": "stream",
     "text": [
      "VIP müşteriler toplam cironun %34.4 kadarını sağlıyor.\n"
     ]
    }
   ],
   "source": [
    "# KOR (KEY OPERATIONAL RESULTS):\n",
    "# 🔹 1. VIP’ler toplam ciroya ne kadar katkı sağlıyor?\n",
    "\n",
    "vip_ciro = rfm_df[rfm_df[\"Segment\"] == \"VIP\"][\"Monetary\"].sum()\n",
    "toplam_ciro = rfm_df[\"Monetary\"].sum()\n",
    "vip_oran = round((vip_ciro/toplam_ciro) * 100, 2)\n",
    "\n",
    "print(f\"VIP müşteriler toplam cironun %{vip_oran} kadarını sağlıyor.\")"
   ]
  },
  {
   "cell_type": "code",
   "execution_count": 8,
   "id": "93f2224e",
   "metadata": {},
   "outputs": [
    {
     "name": "stdout",
     "output_type": "stream",
     "text": [
      "At Risk segmentinde 501 müşteri var. Potansiyel kayıp: ₼691163.73\n"
     ]
    }
   ],
   "source": [
    "# 🔹 2. At Risk segmentinde kaç müşteri var, ne kadar ciro riski var?\n",
    "at_risk = rfm_df[rfm_df['Segment'] == 'At Risk']\n",
    "at_risk_sayi = at_risk.shape[0]\n",
    "at_risk_ciro = at_risk['Monetary'].sum()\n",
    "print(f\"At Risk segmentinde {at_risk_sayi} müşteri var. Potansiyel kayıp: ₼{at_risk_ciro:.2f}\")\n"
   ]
  },
  {
   "cell_type": "code",
   "execution_count": null,
   "id": "97061dad",
   "metadata": {},
   "outputs": [],
   "source": [
    "# 🔹 3. Segment bazlı ortalama harcama\n",
    "ort_harcama = rfm_df.groupby('Segment')['Monetary'].mean().sort_values(ascending=False)\n",
    "print(\"Segment başına ortalama harcama:\")\n",
    "print(ort_harcama)\n"
   ]
  },
  {
   "cell_type": "code",
   "execution_count": null,
   "id": "bfbedfab",
   "metadata": {},
   "outputs": [],
   "source": [
    "# 🔹 4. Sık alışveriş yapan ama düşük harcayanlar\n",
    "ortalama_m = rfm_df['Monetary'].mean()\n",
    "frequent_dusuk = rfm_df[(rfm_df['Segment'] == 'Frequent') & (rfm_df['Monetary'] < ortalama_m)]\n",
    "print(f\"Sık alışveriş yapıp az harcayan müşteri sayısı: {frequent_dusuk.shape[0]}\")\n"
   ]
  },
  {
   "cell_type": "code",
   "execution_count": null,
   "id": "97e8bc52",
   "metadata": {},
   "outputs": [],
   "source": [
    "# 🔹 5. Segment bazlı müşteri dağılımı\n",
    "print(\"Segment dağılımı:\")\n",
    "print(rfm_df['Segment'].value_counts())\n"
   ]
  }
 ],
 "metadata": {
  "kernelspec": {
   "display_name": "Python 3",
   "language": "python",
   "name": "python3"
  },
  "language_info": {
   "codemirror_mode": {
    "name": "ipython",
    "version": 3
   },
   "file_extension": ".py",
   "mimetype": "text/x-python",
   "name": "python",
   "nbconvert_exporter": "python",
   "pygments_lexer": "ipython3",
   "version": "3.13.2"
  }
 },
 "nbformat": 4,
 "nbformat_minor": 5
}
