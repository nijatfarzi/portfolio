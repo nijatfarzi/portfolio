{
 "cells": [
  {
   "cell_type": "markdown",
   "id": "34c0a4bc",
   "metadata": {},
   "source": [
    "# 🔗 Pandas: Merge, Join, Concat"
   ]
  },
  {
   "cell_type": "markdown",
   "id": "b1c50b26",
   "metadata": {},
   "source": [
    "## 📌 1. DataSet – Hazırlıq"
   ]
  },
  {
   "cell_type": "code",
   "execution_count": 1,
   "id": "a8d122ea",
   "metadata": {},
   "outputs": [
    {
     "name": "stdout",
     "output_type": "stream",
     "text": [
      "   ID    Isim  DepartmanID\n",
      "0   1     Ali          101\n",
      "1   2    Ayşe          102\n",
      "2   3  Zeynep          101\n",
      "3   4   Murat          103\n",
      "   DepartmanID DepartmanAdi\n",
      "0          101           İK\n",
      "1          102       Finans\n",
      "2          104           BT\n"
     ]
    }
   ],
   "source": [
    "import pandas as pd\n",
    "\n",
    "calisanlar = pd.DataFrame({\n",
    "    'ID': [1, 2, 3, 4],\n",
    "    'Isim': ['Ali', 'Ayşe', 'Zeynep', 'Murat'],\n",
    "    'DepartmanID': [101, 102, 101, 103]\n",
    "})\n",
    "\n",
    "bolumler = pd.DataFrame({\n",
    "    'DepartmanID': [101, 102, 104],\n",
    "    'DepartmanAdi': ['İK', 'Finans', 'BT']\n",
    "})\n",
    "\n",
    "print(calisanlar)\n",
    "print(bolumler)"
   ]
  },
  {
   "cell_type": "markdown",
   "id": "f2a694f7",
   "metadata": {},
   "source": [
    "## 🔁 2. `merge()` – SQL-vari birleşim"
   ]
  },
  {
   "cell_type": "code",
   "execution_count": null,
   "id": "55b46536",
   "metadata": {},
   "outputs": [
    {
     "data": {
      "text/html": [
       "<div>\n",
       "<style scoped>\n",
       "    .dataframe tbody tr th:only-of-type {\n",
       "        vertical-align: middle;\n",
       "    }\n",
       "\n",
       "    .dataframe tbody tr th {\n",
       "        vertical-align: top;\n",
       "    }\n",
       "\n",
       "    .dataframe thead th {\n",
       "        text-align: right;\n",
       "    }\n",
       "</style>\n",
       "<table border=\"1\" class=\"dataframe\">\n",
       "  <thead>\n",
       "    <tr style=\"text-align: right;\">\n",
       "      <th></th>\n",
       "      <th>ID</th>\n",
       "      <th>Isim</th>\n",
       "      <th>DepartmanID</th>\n",
       "      <th>DepartmanAdi</th>\n",
       "    </tr>\n",
       "  </thead>\n",
       "  <tbody>\n",
       "    <tr>\n",
       "      <th>0</th>\n",
       "      <td>1</td>\n",
       "      <td>Ali</td>\n",
       "      <td>101</td>\n",
       "      <td>İK</td>\n",
       "    </tr>\n",
       "    <tr>\n",
       "      <th>1</th>\n",
       "      <td>2</td>\n",
       "      <td>Ayşe</td>\n",
       "      <td>102</td>\n",
       "      <td>Finans</td>\n",
       "    </tr>\n",
       "    <tr>\n",
       "      <th>2</th>\n",
       "      <td>3</td>\n",
       "      <td>Zeynep</td>\n",
       "      <td>101</td>\n",
       "      <td>İK</td>\n",
       "    </tr>\n",
       "  </tbody>\n",
       "</table>\n",
       "</div>"
      ],
      "text/plain": [
       "   ID    Isim  DepartmanID DepartmanAdi\n",
       "0   1     Ali          101           İK\n",
       "1   2    Ayşe          102       Finans\n",
       "2   3  Zeynep          101           İK"
      ]
     },
     "execution_count": 2,
     "metadata": {},
     "output_type": "execute_result"
    }
   ],
   "source": [
    "# Inner Join – sadece ortusenler alınır\n",
    "pd.merge(calisanlar, bolumler, on='DepartmanID', how='inner')"
   ]
  },
  {
   "cell_type": "code",
   "execution_count": null,
   "id": "06458cc3",
   "metadata": {},
   "outputs": [
    {
     "data": {
      "text/html": [
       "<div>\n",
       "<style scoped>\n",
       "    .dataframe tbody tr th:only-of-type {\n",
       "        vertical-align: middle;\n",
       "    }\n",
       "\n",
       "    .dataframe tbody tr th {\n",
       "        vertical-align: top;\n",
       "    }\n",
       "\n",
       "    .dataframe thead th {\n",
       "        text-align: right;\n",
       "    }\n",
       "</style>\n",
       "<table border=\"1\" class=\"dataframe\">\n",
       "  <thead>\n",
       "    <tr style=\"text-align: right;\">\n",
       "      <th></th>\n",
       "      <th>ID</th>\n",
       "      <th>Isim</th>\n",
       "      <th>DepartmanID</th>\n",
       "      <th>DepartmanAdi</th>\n",
       "    </tr>\n",
       "  </thead>\n",
       "  <tbody>\n",
       "    <tr>\n",
       "      <th>0</th>\n",
       "      <td>1</td>\n",
       "      <td>Ali</td>\n",
       "      <td>101</td>\n",
       "      <td>İK</td>\n",
       "    </tr>\n",
       "    <tr>\n",
       "      <th>1</th>\n",
       "      <td>2</td>\n",
       "      <td>Ayşe</td>\n",
       "      <td>102</td>\n",
       "      <td>Finans</td>\n",
       "    </tr>\n",
       "    <tr>\n",
       "      <th>2</th>\n",
       "      <td>3</td>\n",
       "      <td>Zeynep</td>\n",
       "      <td>101</td>\n",
       "      <td>İK</td>\n",
       "    </tr>\n",
       "    <tr>\n",
       "      <th>3</th>\n",
       "      <td>4</td>\n",
       "      <td>Murat</td>\n",
       "      <td>103</td>\n",
       "      <td>NaN</td>\n",
       "    </tr>\n",
       "  </tbody>\n",
       "</table>\n",
       "</div>"
      ],
      "text/plain": [
       "   ID    Isim  DepartmanID DepartmanAdi\n",
       "0   1     Ali          101           İK\n",
       "1   2    Ayşe          102       Finans\n",
       "2   3  Zeynep          101           İK\n",
       "3   4   Murat          103          NaN"
      ]
     },
     "execution_count": 3,
     "metadata": {},
     "output_type": "execute_result"
    }
   ],
   "source": [
    "# Left Join – sol table qorunur\n",
    "pd.merge(calisanlar, bolumler, on='DepartmanID', how='left')"
   ]
  },
  {
   "cell_type": "code",
   "execution_count": null,
   "id": "031b002c",
   "metadata": {},
   "outputs": [
    {
     "data": {
      "text/html": [
       "<div>\n",
       "<style scoped>\n",
       "    .dataframe tbody tr th:only-of-type {\n",
       "        vertical-align: middle;\n",
       "    }\n",
       "\n",
       "    .dataframe tbody tr th {\n",
       "        vertical-align: top;\n",
       "    }\n",
       "\n",
       "    .dataframe thead th {\n",
       "        text-align: right;\n",
       "    }\n",
       "</style>\n",
       "<table border=\"1\" class=\"dataframe\">\n",
       "  <thead>\n",
       "    <tr style=\"text-align: right;\">\n",
       "      <th></th>\n",
       "      <th>ID</th>\n",
       "      <th>Isim</th>\n",
       "      <th>DepartmanID</th>\n",
       "      <th>DepartmanAdi</th>\n",
       "    </tr>\n",
       "  </thead>\n",
       "  <tbody>\n",
       "    <tr>\n",
       "      <th>0</th>\n",
       "      <td>1.0</td>\n",
       "      <td>Ali</td>\n",
       "      <td>101</td>\n",
       "      <td>İK</td>\n",
       "    </tr>\n",
       "    <tr>\n",
       "      <th>1</th>\n",
       "      <td>3.0</td>\n",
       "      <td>Zeynep</td>\n",
       "      <td>101</td>\n",
       "      <td>İK</td>\n",
       "    </tr>\n",
       "    <tr>\n",
       "      <th>2</th>\n",
       "      <td>2.0</td>\n",
       "      <td>Ayşe</td>\n",
       "      <td>102</td>\n",
       "      <td>Finans</td>\n",
       "    </tr>\n",
       "    <tr>\n",
       "      <th>3</th>\n",
       "      <td>NaN</td>\n",
       "      <td>NaN</td>\n",
       "      <td>104</td>\n",
       "      <td>BT</td>\n",
       "    </tr>\n",
       "  </tbody>\n",
       "</table>\n",
       "</div>"
      ],
      "text/plain": [
       "    ID    Isim  DepartmanID DepartmanAdi\n",
       "0  1.0     Ali          101           İK\n",
       "1  3.0  Zeynep          101           İK\n",
       "2  2.0    Ayşe          102       Finans\n",
       "3  NaN     NaN          104           BT"
      ]
     },
     "execution_count": 4,
     "metadata": {},
     "output_type": "execute_result"
    }
   ],
   "source": [
    "# Right Join – sağ table qorunur\n",
    "pd.merge(calisanlar, bolumler, on='DepartmanID', how='right')"
   ]
  },
  {
   "cell_type": "code",
   "execution_count": null,
   "id": "ce383fa2",
   "metadata": {},
   "outputs": [
    {
     "data": {
      "text/html": [
       "<div>\n",
       "<style scoped>\n",
       "    .dataframe tbody tr th:only-of-type {\n",
       "        vertical-align: middle;\n",
       "    }\n",
       "\n",
       "    .dataframe tbody tr th {\n",
       "        vertical-align: top;\n",
       "    }\n",
       "\n",
       "    .dataframe thead th {\n",
       "        text-align: right;\n",
       "    }\n",
       "</style>\n",
       "<table border=\"1\" class=\"dataframe\">\n",
       "  <thead>\n",
       "    <tr style=\"text-align: right;\">\n",
       "      <th></th>\n",
       "      <th>ID</th>\n",
       "      <th>Isim</th>\n",
       "      <th>DepartmanID</th>\n",
       "      <th>DepartmanAdi</th>\n",
       "    </tr>\n",
       "  </thead>\n",
       "  <tbody>\n",
       "    <tr>\n",
       "      <th>0</th>\n",
       "      <td>1.0</td>\n",
       "      <td>Ali</td>\n",
       "      <td>101</td>\n",
       "      <td>İK</td>\n",
       "    </tr>\n",
       "    <tr>\n",
       "      <th>1</th>\n",
       "      <td>3.0</td>\n",
       "      <td>Zeynep</td>\n",
       "      <td>101</td>\n",
       "      <td>İK</td>\n",
       "    </tr>\n",
       "    <tr>\n",
       "      <th>2</th>\n",
       "      <td>2.0</td>\n",
       "      <td>Ayşe</td>\n",
       "      <td>102</td>\n",
       "      <td>Finans</td>\n",
       "    </tr>\n",
       "    <tr>\n",
       "      <th>3</th>\n",
       "      <td>4.0</td>\n",
       "      <td>Murat</td>\n",
       "      <td>103</td>\n",
       "      <td>NaN</td>\n",
       "    </tr>\n",
       "    <tr>\n",
       "      <th>4</th>\n",
       "      <td>NaN</td>\n",
       "      <td>NaN</td>\n",
       "      <td>104</td>\n",
       "      <td>BT</td>\n",
       "    </tr>\n",
       "  </tbody>\n",
       "</table>\n",
       "</div>"
      ],
      "text/plain": [
       "    ID    Isim  DepartmanID DepartmanAdi\n",
       "0  1.0     Ali          101           İK\n",
       "1  3.0  Zeynep          101           İK\n",
       "2  2.0    Ayşe          102       Finans\n",
       "3  4.0   Murat          103          NaN\n",
       "4  NaN     NaN          104           BT"
      ]
     },
     "execution_count": 5,
     "metadata": {},
     "output_type": "execute_result"
    }
   ],
   "source": [
    "# Outer Join – Butun data alınır\n",
    "pd.merge(calisanlar, bolumler, on='DepartmanID', how='outer')"
   ]
  },
  {
   "cell_type": "markdown",
   "id": "d87be847",
   "metadata": {},
   "source": [
    "## 🔗 3. `join()` – Index bazlı birleşim"
   ]
  },
  {
   "cell_type": "code",
   "execution_count": 6,
   "id": "77fef02a",
   "metadata": {},
   "outputs": [
    {
     "data": {
      "text/html": [
       "<div>\n",
       "<style scoped>\n",
       "    .dataframe tbody tr th:only-of-type {\n",
       "        vertical-align: middle;\n",
       "    }\n",
       "\n",
       "    .dataframe tbody tr th {\n",
       "        vertical-align: top;\n",
       "    }\n",
       "\n",
       "    .dataframe thead th {\n",
       "        text-align: right;\n",
       "    }\n",
       "</style>\n",
       "<table border=\"1\" class=\"dataframe\">\n",
       "  <thead>\n",
       "    <tr style=\"text-align: right;\">\n",
       "      <th></th>\n",
       "      <th>ID</th>\n",
       "      <th>Isim</th>\n",
       "      <th>DepartmanID</th>\n",
       "      <th>Maas</th>\n",
       "    </tr>\n",
       "  </thead>\n",
       "  <tbody>\n",
       "    <tr>\n",
       "      <th>0</th>\n",
       "      <td>1</td>\n",
       "      <td>Ali</td>\n",
       "      <td>101</td>\n",
       "      <td>5000</td>\n",
       "    </tr>\n",
       "    <tr>\n",
       "      <th>1</th>\n",
       "      <td>2</td>\n",
       "      <td>Ayşe</td>\n",
       "      <td>102</td>\n",
       "      <td>6000</td>\n",
       "    </tr>\n",
       "    <tr>\n",
       "      <th>2</th>\n",
       "      <td>3</td>\n",
       "      <td>Zeynep</td>\n",
       "      <td>101</td>\n",
       "      <td>5500</td>\n",
       "    </tr>\n",
       "    <tr>\n",
       "      <th>3</th>\n",
       "      <td>4</td>\n",
       "      <td>Murat</td>\n",
       "      <td>103</td>\n",
       "      <td>6200</td>\n",
       "    </tr>\n",
       "  </tbody>\n",
       "</table>\n",
       "</div>"
      ],
      "text/plain": [
       "   ID    Isim  DepartmanID  Maas\n",
       "0   1     Ali          101  5000\n",
       "1   2    Ayşe          102  6000\n",
       "2   3  Zeynep          101  5500\n",
       "3   4   Murat          103  6200"
      ]
     },
     "execution_count": 6,
     "metadata": {},
     "output_type": "execute_result"
    }
   ],
   "source": [
    "ekstra = pd.DataFrame({\n",
    "    'Maas': [5000, 6000, 5500, 6200]\n",
    "}, index=[1, 2, 3, 4])\n",
    "\n",
    "calisanlar.join(ekstra, on='ID')"
   ]
  },
  {
   "cell_type": "markdown",
   "id": "114f4245",
   "metadata": {},
   "source": [
    "## ➕ 4. `concat()` – Tabloyu alt alta veya yan yana ekleme"
   ]
  },
  {
   "cell_type": "code",
   "execution_count": 7,
   "id": "d39647f6",
   "metadata": {},
   "outputs": [
    {
     "data": {
      "text/html": [
       "<div>\n",
       "<style scoped>\n",
       "    .dataframe tbody tr th:only-of-type {\n",
       "        vertical-align: middle;\n",
       "    }\n",
       "\n",
       "    .dataframe tbody tr th {\n",
       "        vertical-align: top;\n",
       "    }\n",
       "\n",
       "    .dataframe thead th {\n",
       "        text-align: right;\n",
       "    }\n",
       "</style>\n",
       "<table border=\"1\" class=\"dataframe\">\n",
       "  <thead>\n",
       "    <tr style=\"text-align: right;\">\n",
       "      <th></th>\n",
       "      <th>A</th>\n",
       "      <th>B</th>\n",
       "    </tr>\n",
       "  </thead>\n",
       "  <tbody>\n",
       "    <tr>\n",
       "      <th>0</th>\n",
       "      <td>A1</td>\n",
       "      <td>B1</td>\n",
       "    </tr>\n",
       "    <tr>\n",
       "      <th>1</th>\n",
       "      <td>A2</td>\n",
       "      <td>B2</td>\n",
       "    </tr>\n",
       "    <tr>\n",
       "      <th>0</th>\n",
       "      <td>A3</td>\n",
       "      <td>B3</td>\n",
       "    </tr>\n",
       "    <tr>\n",
       "      <th>1</th>\n",
       "      <td>A4</td>\n",
       "      <td>B4</td>\n",
       "    </tr>\n",
       "  </tbody>\n",
       "</table>\n",
       "</div>"
      ],
      "text/plain": [
       "    A   B\n",
       "0  A1  B1\n",
       "1  A2  B2\n",
       "0  A3  B3\n",
       "1  A4  B4"
      ]
     },
     "execution_count": 7,
     "metadata": {},
     "output_type": "execute_result"
    }
   ],
   "source": [
    "df1 = pd.DataFrame({'A': ['A1', 'A2'], 'B': ['B1', 'B2']})\n",
    "df2 = pd.DataFrame({'A': ['A3', 'A4'], 'B': ['B3', 'B4']})\n",
    "\n",
    "# Alt alta\n",
    "pd.concat([df1, df2])"
   ]
  },
  {
   "cell_type": "code",
   "execution_count": 8,
   "id": "313c9559",
   "metadata": {},
   "outputs": [
    {
     "data": {
      "text/html": [
       "<div>\n",
       "<style scoped>\n",
       "    .dataframe tbody tr th:only-of-type {\n",
       "        vertical-align: middle;\n",
       "    }\n",
       "\n",
       "    .dataframe tbody tr th {\n",
       "        vertical-align: top;\n",
       "    }\n",
       "\n",
       "    .dataframe thead th {\n",
       "        text-align: right;\n",
       "    }\n",
       "</style>\n",
       "<table border=\"1\" class=\"dataframe\">\n",
       "  <thead>\n",
       "    <tr style=\"text-align: right;\">\n",
       "      <th></th>\n",
       "      <th>A</th>\n",
       "      <th>B</th>\n",
       "      <th>A</th>\n",
       "      <th>B</th>\n",
       "    </tr>\n",
       "  </thead>\n",
       "  <tbody>\n",
       "    <tr>\n",
       "      <th>0</th>\n",
       "      <td>A1</td>\n",
       "      <td>B1</td>\n",
       "      <td>A3</td>\n",
       "      <td>B3</td>\n",
       "    </tr>\n",
       "    <tr>\n",
       "      <th>1</th>\n",
       "      <td>A2</td>\n",
       "      <td>B2</td>\n",
       "      <td>A4</td>\n",
       "      <td>B4</td>\n",
       "    </tr>\n",
       "  </tbody>\n",
       "</table>\n",
       "</div>"
      ],
      "text/plain": [
       "    A   B   A   B\n",
       "0  A1  B1  A3  B3\n",
       "1  A2  B2  A4  B4"
      ]
     },
     "execution_count": 8,
     "metadata": {},
     "output_type": "execute_result"
    }
   ],
   "source": [
    "# Yan yana (axis=1)\n",
    "pd.concat([df1, df2], axis=1)"
   ]
  },
  {
   "cell_type": "markdown",
   "id": "abe0859a",
   "metadata": {},
   "source": []
  },
  {
   "cell_type": "code",
   "execution_count": 9,
   "id": "56e80e40",
   "metadata": {},
   "outputs": [
    {
     "data": {
      "text/html": [
       "<div>\n",
       "<style scoped>\n",
       "    .dataframe tbody tr th:only-of-type {\n",
       "        vertical-align: middle;\n",
       "    }\n",
       "\n",
       "    .dataframe tbody tr th {\n",
       "        vertical-align: top;\n",
       "    }\n",
       "\n",
       "    .dataframe thead th {\n",
       "        text-align: right;\n",
       "    }\n",
       "</style>\n",
       "<table border=\"1\" class=\"dataframe\">\n",
       "  <thead>\n",
       "    <tr style=\"text-align: right;\">\n",
       "      <th></th>\n",
       "      <th>ID</th>\n",
       "      <th>Isim</th>\n",
       "      <th>DepartmanID</th>\n",
       "      <th>DepartmanAdi</th>\n",
       "    </tr>\n",
       "  </thead>\n",
       "  <tbody>\n",
       "    <tr>\n",
       "      <th>0</th>\n",
       "      <td>1.0</td>\n",
       "      <td>Ali</td>\n",
       "      <td>101</td>\n",
       "      <td>İK</td>\n",
       "    </tr>\n",
       "    <tr>\n",
       "      <th>1</th>\n",
       "      <td>3.0</td>\n",
       "      <td>Zeynep</td>\n",
       "      <td>101</td>\n",
       "      <td>İK</td>\n",
       "    </tr>\n",
       "    <tr>\n",
       "      <th>2</th>\n",
       "      <td>2.0</td>\n",
       "      <td>Ayşe</td>\n",
       "      <td>102</td>\n",
       "      <td>Finans</td>\n",
       "    </tr>\n",
       "    <tr>\n",
       "      <th>3</th>\n",
       "      <td>4.0</td>\n",
       "      <td>Murat</td>\n",
       "      <td>103</td>\n",
       "      <td>NaN</td>\n",
       "    </tr>\n",
       "    <tr>\n",
       "      <th>4</th>\n",
       "      <td>NaN</td>\n",
       "      <td>NaN</td>\n",
       "      <td>104</td>\n",
       "      <td>BT</td>\n",
       "    </tr>\n",
       "  </tbody>\n",
       "</table>\n",
       "</div>"
      ],
      "text/plain": [
       "    ID    Isim  DepartmanID DepartmanAdi\n",
       "0  1.0     Ali          101           İK\n",
       "1  3.0  Zeynep          101           İK\n",
       "2  2.0    Ayşe          102       Finans\n",
       "3  4.0   Murat          103          NaN\n",
       "4  NaN     NaN          104           BT"
      ]
     },
     "execution_count": 9,
     "metadata": {},
     "output_type": "execute_result"
    }
   ],
   "source": [
    "## 🧠 Mini Görevler\n",
    "\n",
    "### 1. `calisanlar` ile `bolumler` tablolarını outer join ile birleştir.\n",
    "\n",
    "pd.merge(calisanlar, bolumler, on= \"DepartmanID\", how= \"outer\")"
   ]
  },
  {
   "cell_type": "code",
   "execution_count": null,
   "id": "e5e9a982",
   "metadata": {},
   "outputs": [
    {
     "data": {
      "text/plain": [
       "11"
      ]
     },
     "execution_count": 17,
     "metadata": {},
     "output_type": "execute_result"
    }
   ],
   "source": [
    "\n",
    "### 2. `calisanlar`'a maaş bilgilerini join() ile ekle.\n",
    "from operator import index\n",
    "from pandas import DataFrame\n",
    "\n",
    "\n",
    "maas = DataFrame({\n",
    "    \"Maas\" : [3000, 6000, 5500, 4000]\n",
    "    }, index=[1,2,3,4])\n",
    "calisanlar.join(maas, on= \"ID\")\n",
    "\n",
    "### 3. 3 tabloyu `concat()` ile alt alta ekleyip toplam satır sayısını hesapla.\n",
    "new = pd.concat([calisanlar, bolumler, ekstra])\n",
    "len(new.index)"
   ]
  }
 ],
 "metadata": {
  "kernelspec": {
   "display_name": "Python 3",
   "language": "python",
   "name": "python3"
  },
  "language_info": {
   "codemirror_mode": {
    "name": "ipython",
    "version": 3
   },
   "file_extension": ".py",
   "mimetype": "text/x-python",
   "name": "python",
   "nbconvert_exporter": "python",
   "pygments_lexer": "ipython3",
   "version": "3.13.2"
  }
 },
 "nbformat": 4,
 "nbformat_minor": 5
}
