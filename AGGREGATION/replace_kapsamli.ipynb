{
 "cells": [
  {
   "cell_type": "markdown",
   "metadata": {},
   "source": [
    "# 🔁 `replace()` Fonksiyonu – Kapsamlı Anlatım"
   ]
  },
  {
   "cell_type": "markdown",
   "metadata": {},
   "source": [
    "`replace()` fonksiyonu, bir sütundaki değerleri doğrudan başka değerlerle değiştirmek için kullanılır.\n",
    "Hem tek bir değeri hem birden fazla değeri değiştirmek için uygundur."
   ]
  },
  {
   "cell_type": "code",
   "execution_count": 1,
   "metadata": {},
   "outputs": [
    {
     "data": {
      "text/html": [
       "<div>\n",
       "<style scoped>\n",
       "    .dataframe tbody tr th:only-of-type {\n",
       "        vertical-align: middle;\n",
       "    }\n",
       "\n",
       "    .dataframe tbody tr th {\n",
       "        vertical-align: top;\n",
       "    }\n",
       "\n",
       "    .dataframe thead th {\n",
       "        text-align: right;\n",
       "    }\n",
       "</style>\n",
       "<table border=\"1\" class=\"dataframe\">\n",
       "  <thead>\n",
       "    <tr style=\"text-align: right;\">\n",
       "      <th></th>\n",
       "      <th>Age</th>\n",
       "      <th>Attrition</th>\n",
       "      <th>BusinessTravel</th>\n",
       "      <th>DailyRate</th>\n",
       "      <th>Department</th>\n",
       "      <th>DistanceFromHome</th>\n",
       "      <th>Education</th>\n",
       "      <th>EducationField</th>\n",
       "      <th>EmployeeCount</th>\n",
       "      <th>EmployeeNumber</th>\n",
       "      <th>Gender</th>\n",
       "      <th>JobRole</th>\n",
       "      <th>JobSatisfaction</th>\n",
       "      <th>MaritalStatus</th>\n",
       "      <th>MonthlyIncome</th>\n",
       "      <th>MonthlyRate</th>\n",
       "      <th>Over18</th>\n",
       "      <th>OverTime</th>\n",
       "      <th>PerformanceRating</th>\n",
       "      <th>TotalWorkingYears</th>\n",
       "    </tr>\n",
       "  </thead>\n",
       "  <tbody>\n",
       "    <tr>\n",
       "      <th>0</th>\n",
       "      <td>41</td>\n",
       "      <td>Yes</td>\n",
       "      <td>Travel_Rarely</td>\n",
       "      <td>1102</td>\n",
       "      <td>Sales</td>\n",
       "      <td>1</td>\n",
       "      <td>2</td>\n",
       "      <td>Life Sciences</td>\n",
       "      <td>1</td>\n",
       "      <td>1</td>\n",
       "      <td>Female</td>\n",
       "      <td>Sales Executive</td>\n",
       "      <td>4</td>\n",
       "      <td>Single</td>\n",
       "      <td>5993</td>\n",
       "      <td>19479</td>\n",
       "      <td>Y</td>\n",
       "      <td>Yes</td>\n",
       "      <td>3</td>\n",
       "      <td>8</td>\n",
       "    </tr>\n",
       "    <tr>\n",
       "      <th>1</th>\n",
       "      <td>49</td>\n",
       "      <td>No</td>\n",
       "      <td>Travel_Frequently</td>\n",
       "      <td>279</td>\n",
       "      <td>Research &amp; Development</td>\n",
       "      <td>8</td>\n",
       "      <td>1</td>\n",
       "      <td>Life Sciences</td>\n",
       "      <td>1</td>\n",
       "      <td>2</td>\n",
       "      <td>Male</td>\n",
       "      <td>Research Scientist</td>\n",
       "      <td>2</td>\n",
       "      <td>Married</td>\n",
       "      <td>5130</td>\n",
       "      <td>24907</td>\n",
       "      <td>Y</td>\n",
       "      <td>No</td>\n",
       "      <td>4</td>\n",
       "      <td>10</td>\n",
       "    </tr>\n",
       "    <tr>\n",
       "      <th>2</th>\n",
       "      <td>37</td>\n",
       "      <td>Yes</td>\n",
       "      <td>Travel_Rarely</td>\n",
       "      <td>1373</td>\n",
       "      <td>Research &amp; Development</td>\n",
       "      <td>2</td>\n",
       "      <td>2</td>\n",
       "      <td>Other</td>\n",
       "      <td>1</td>\n",
       "      <td>4</td>\n",
       "      <td>Male</td>\n",
       "      <td>Laboratory Technician</td>\n",
       "      <td>3</td>\n",
       "      <td>Single</td>\n",
       "      <td>2090</td>\n",
       "      <td>2396</td>\n",
       "      <td>Y</td>\n",
       "      <td>Yes</td>\n",
       "      <td>3</td>\n",
       "      <td>7</td>\n",
       "    </tr>\n",
       "    <tr>\n",
       "      <th>3</th>\n",
       "      <td>33</td>\n",
       "      <td>No</td>\n",
       "      <td>Travel_Frequently</td>\n",
       "      <td>1392</td>\n",
       "      <td>Research &amp; Development</td>\n",
       "      <td>3</td>\n",
       "      <td>4</td>\n",
       "      <td>Life Sciences</td>\n",
       "      <td>1</td>\n",
       "      <td>5</td>\n",
       "      <td>Female</td>\n",
       "      <td>Research Scientist</td>\n",
       "      <td>3</td>\n",
       "      <td>Married</td>\n",
       "      <td>2909</td>\n",
       "      <td>23159</td>\n",
       "      <td>Y</td>\n",
       "      <td>Yes</td>\n",
       "      <td>3</td>\n",
       "      <td>8</td>\n",
       "    </tr>\n",
       "    <tr>\n",
       "      <th>4</th>\n",
       "      <td>27</td>\n",
       "      <td>No</td>\n",
       "      <td>Travel_Rarely</td>\n",
       "      <td>591</td>\n",
       "      <td>Research &amp; Development</td>\n",
       "      <td>2</td>\n",
       "      <td>1</td>\n",
       "      <td>Medical</td>\n",
       "      <td>1</td>\n",
       "      <td>7</td>\n",
       "      <td>Male</td>\n",
       "      <td>Laboratory Technician</td>\n",
       "      <td>2</td>\n",
       "      <td>Married</td>\n",
       "      <td>3468</td>\n",
       "      <td>16632</td>\n",
       "      <td>Y</td>\n",
       "      <td>No</td>\n",
       "      <td>3</td>\n",
       "      <td>6</td>\n",
       "    </tr>\n",
       "  </tbody>\n",
       "</table>\n",
       "</div>"
      ],
      "text/plain": [
       "   Age Attrition     BusinessTravel  DailyRate              Department  \\\n",
       "0   41       Yes      Travel_Rarely       1102                   Sales   \n",
       "1   49        No  Travel_Frequently        279  Research & Development   \n",
       "2   37       Yes      Travel_Rarely       1373  Research & Development   \n",
       "3   33        No  Travel_Frequently       1392  Research & Development   \n",
       "4   27        No      Travel_Rarely        591  Research & Development   \n",
       "\n",
       "   DistanceFromHome  Education EducationField  EmployeeCount  EmployeeNumber  \\\n",
       "0                 1          2  Life Sciences              1               1   \n",
       "1                 8          1  Life Sciences              1               2   \n",
       "2                 2          2          Other              1               4   \n",
       "3                 3          4  Life Sciences              1               5   \n",
       "4                 2          1        Medical              1               7   \n",
       "\n",
       "   Gender                JobRole  JobSatisfaction MaritalStatus  \\\n",
       "0  Female        Sales Executive                4        Single   \n",
       "1    Male     Research Scientist                2       Married   \n",
       "2    Male  Laboratory Technician                3        Single   \n",
       "3  Female     Research Scientist                3       Married   \n",
       "4    Male  Laboratory Technician                2       Married   \n",
       "\n",
       "   MonthlyIncome  MonthlyRate Over18 OverTime  PerformanceRating  \\\n",
       "0           5993        19479      Y      Yes                  3   \n",
       "1           5130        24907      Y       No                  4   \n",
       "2           2090         2396      Y      Yes                  3   \n",
       "3           2909        23159      Y      Yes                  3   \n",
       "4           3468        16632      Y       No                  3   \n",
       "\n",
       "   TotalWorkingYears  \n",
       "0                  8  \n",
       "1                 10  \n",
       "2                  7  \n",
       "3                  8  \n",
       "4                  6  "
      ]
     },
     "execution_count": 1,
     "metadata": {},
     "output_type": "execute_result"
    }
   ],
   "source": [
    "import pandas as pd\n",
    "df = pd.read_csv(\"HR Data.csv\")\n",
    "df.head()"
   ]
  },
  {
   "cell_type": "markdown",
   "metadata": {},
   "source": [
    "## 🔹 Örnek 1: Tek değer değiştirme"
   ]
  },
  {
   "cell_type": "code",
   "execution_count": null,
   "metadata": {},
   "outputs": [],
   "source": [
    "df[\"Gender\"] = df[\"Gender\"].replace(\"Male\", \"Erkek\")\n",
    "df[\"Gender\"].head()"
   ]
  },
  {
   "cell_type": "markdown",
   "metadata": {},
   "source": [
    "## 🔹 Örnek 2: Birden fazla değer değiştirme (sözlük ile)"
   ]
  },
  {
   "cell_type": "code",
   "execution_count": null,
   "metadata": {},
   "outputs": [],
   "source": [
    "df[\"Attrition\"] = df[\"Attrition\"].replace({\"Yes\": 1, \"No\": 0})\n",
    "df[\"Attrition\"].value_counts()"
   ]
  },
  {
   "cell_type": "markdown",
   "metadata": {},
   "source": [
    "## 🔹 Örnek 3: Liste ile çoklu değişim"
   ]
  },
  {
   "cell_type": "code",
   "execution_count": null,
   "metadata": {},
   "outputs": [],
   "source": [
    "df[\"Education\"] = df[\"Education\"].replace([1, 2, 3], [\"Lise\", \"Ön Lisans\", \"Lisans\"])\n",
    "df[\"Education\"].head()"
   ]
  },
  {
   "cell_type": "markdown",
   "metadata": {},
   "source": [
    "## 🧠 map() vs replace()\n",
    "\n",
    "- `map()`: eşleşmeyen değerleri NaN yapar\n",
    "- `replace()`: eşleşmeyen değerlere dokunmaz"
   ]
  },
  {
   "cell_type": "markdown",
   "metadata": {},
   "source": [
    "## 🔹 Örnek 4: regex=True ile metin değiştirme (gelişmiş kullanım)"
   ]
  },
  {
   "cell_type": "code",
   "execution_count": null,
   "metadata": {},
   "outputs": [],
   "source": [
    "# df[\"Notes\"] = df[\"Notes\"].replace(r\"\\\\n\", \" \", regex=True)"
   ]
  },
  {
   "cell_type": "code",
   "execution_count": null,
   "metadata": {},
   "outputs": [],
   "source": [
    "\n",
    "\n",
    "# ### 🧪 `replace()` Soruları\n",
    "\n",
    "\n",
    "# #### 🔹 Soru 1  \n",
    "# # **Gender** sütunundaki `\"Male\"` → `\"Erkek\"`, `\"Female\"` → `\"Kadın\"` olarak değiştirin.\n",
    "\n"
   ]
  },
  {
   "cell_type": "code",
   "execution_count": 2,
   "metadata": {},
   "outputs": [
    {
     "data": {
      "text/plain": [
       "0       Kadın\n",
       "1       Erkek\n",
       "2       Erkek\n",
       "3       Kadın\n",
       "4       Erkek\n",
       "        ...  \n",
       "1465    Erkek\n",
       "1466    Erkek\n",
       "1467    Erkek\n",
       "1468    Erkek\n",
       "1469    Erkek\n",
       "Name: Gender, Length: 1470, dtype: object"
      ]
     },
     "execution_count": 2,
     "metadata": {},
     "output_type": "execute_result"
    }
   ],
   "source": [
    "df[\"Gender\"].replace({\"Male\" : \"Erkek\", \"Female\" : \"Kadın\"}) "
   ]
  },
  {
   "cell_type": "code",
   "execution_count": null,
   "metadata": {},
   "outputs": [],
   "source": [
    "\n",
    "\n",
    "# #### 🔹 Soru 2  \n",
    "# # **Attrition** sütunundaki `\"Yes\"` → `1`, `\"No\"` → `0` olarak değiştirin.\n",
    "\n"
   ]
  },
  {
   "cell_type": "code",
   "execution_count": 3,
   "metadata": {},
   "outputs": [
    {
     "name": "stderr",
     "output_type": "stream",
     "text": [
      "C:\\Users\\nicat\\AppData\\Local\\Temp\\ipykernel_524\\337890138.py:1: FutureWarning: Downcasting behavior in `replace` is deprecated and will be removed in a future version. To retain the old behavior, explicitly call `result.infer_objects(copy=False)`. To opt-in to the future behavior, set `pd.set_option('future.no_silent_downcasting', True)`\n",
      "  df[\"Attrition\"].replace({\"Yes\" : 1, \"No\" : 0})\n"
     ]
    },
    {
     "data": {
      "text/plain": [
       "0       1\n",
       "1       0\n",
       "2       1\n",
       "3       0\n",
       "4       0\n",
       "       ..\n",
       "1465    0\n",
       "1466    0\n",
       "1467    0\n",
       "1468    0\n",
       "1469    0\n",
       "Name: Attrition, Length: 1470, dtype: int64"
      ]
     },
     "execution_count": 3,
     "metadata": {},
     "output_type": "execute_result"
    }
   ],
   "source": [
    "df[\"Attrition\"].replace({\"Yes\" : 1, \"No\" : 0})"
   ]
  },
  {
   "cell_type": "code",
   "execution_count": null,
   "metadata": {},
   "outputs": [],
   "source": [
    "\n",
    "# # #### 🔹 Soru 3  \n",
    "# # **BusinessTravel** sütunundaki:\n",
    "# # - `\"Non-Travel\"` → `\"Yok\"`\n",
    "# # - `\"Travel_Rarely\"` → `\"Nadiren\"`\n",
    "# # - `\"Travel_Frequently\"` → `\"Sık\"`\n",
    "\n",
    "# ---\n"
   ]
  },
  {
   "cell_type": "code",
   "execution_count": 4,
   "metadata": {},
   "outputs": [
    {
     "data": {
      "text/plain": [
       "0       Nadiren\n",
       "1           Sık\n",
       "2       Nadiren\n",
       "3           Sık\n",
       "4       Nadiren\n",
       "         ...   \n",
       "1465        Sık\n",
       "1466    Nadiren\n",
       "1467    Nadiren\n",
       "1468        Sık\n",
       "1469    Nadiren\n",
       "Name: BusinessTravel, Length: 1470, dtype: object"
      ]
     },
     "execution_count": 4,
     "metadata": {},
     "output_type": "execute_result"
    }
   ],
   "source": [
    "df[\"BusinessTravel\"].replace({\n",
    "    \"Non-Travel\" : \"Yok\",\n",
    "    \"Travel_Rarely\" : \"Nadiren\",\n",
    "    \"Travel_Frequently\" : \"Sık\"})"
   ]
  },
  {
   "cell_type": "code",
   "execution_count": null,
   "metadata": {},
   "outputs": [],
   "source": [
    "\n",
    "# # #### 🔹 Soru 4  \n",
    "# # **Education** sütununda şu liste değişimini yapın:  \n",
    "# # `[1, 2, 3]` → `[\"Lise\", \"Ön Lisans\", \"Lisans\"]`\n",
    "\n",
    "# ---\n"
   ]
  },
  {
   "cell_type": "code",
   "execution_count": 7,
   "metadata": {},
   "outputs": [
    {
     "data": {
      "text/plain": [
       "0       Ön Lisans\n",
       "1            Lise\n",
       "2       Ön Lisans\n",
       "3               4\n",
       "4            Lise\n",
       "          ...    \n",
       "1465    Ön Lisans\n",
       "1466         Lise\n",
       "1467       Lisans\n",
       "1468       Lisans\n",
       "1469       Lisans\n",
       "Name: Education, Length: 1470, dtype: object"
      ]
     },
     "execution_count": 7,
     "metadata": {},
     "output_type": "execute_result"
    }
   ],
   "source": [
    "df[\"Education\"].replace([1, 2, 3], [\"Lise\", \"Ön Lisans\", \"Lisans\"])"
   ]
  },
  {
   "cell_type": "code",
   "execution_count": null,
   "metadata": {},
   "outputs": [],
   "source": [
    "\n",
    "# # #### 🔹 Soru 5  \n",
    "# # **OverTime** sütununda `\"Yes\"` olanları `\"Evet\"` ve `\"No\"` olanları `\"Hayır\"` olarak değiştirin.\n",
    "\n",
    "# ---"
   ]
  },
  {
   "cell_type": "code",
   "execution_count": 8,
   "metadata": {},
   "outputs": [
    {
     "data": {
      "text/plain": [
       "0        Evet\n",
       "1       Hayir\n",
       "2        Evet\n",
       "3        Evet\n",
       "4       Hayir\n",
       "        ...  \n",
       "1465    Hayir\n",
       "1466    Hayir\n",
       "1467     Evet\n",
       "1468    Hayir\n",
       "1469    Hayir\n",
       "Name: OverTime, Length: 1470, dtype: object"
      ]
     },
     "execution_count": 8,
     "metadata": {},
     "output_type": "execute_result"
    }
   ],
   "source": [
    "df[\"OverTime\"].replace({\"Yes\" :\"Evet\", \"No\" : \"Hayir\"})"
   ]
  },
  {
   "cell_type": "code",
   "execution_count": null,
   "metadata": {},
   "outputs": [],
   "source": [
    "\n",
    "# # #### 🔹 Soru 6 (Bonus)  \n",
    "# # **JobRole** sütununda `\"Laboratory Technician\"` geçen tüm değerlerde `\"Lab Teknisyeni\"` ile değiştirin (ipucu: `regex=True` ile `replace`).\n",
    "\n",
    "# ---\n"
   ]
  },
  {
   "cell_type": "code",
   "execution_count": null,
   "metadata": {},
   "outputs": [
    {
     "data": {
      "text/plain": [
       "0                 Sales Executive\n",
       "1              Research Scientist\n",
       "2                  Lab Teknisyeni\n",
       "3              Research Scientist\n",
       "4                  Lab Teknisyeni\n",
       "                  ...            \n",
       "1465               Lab Teknisyeni\n",
       "1466    Healthcare Representative\n",
       "1467       Manufacturing Director\n",
       "1468              Sales Executive\n",
       "1469               Lab Teknisyeni\n",
       "Name: JobRole, Length: 1470, dtype: object"
      ]
     },
     "execution_count": 11,
     "metadata": {},
     "output_type": "execute_result"
    }
   ],
   "source": [
    "# df[\"JobRole\"].replace({\"Laboratory Technician\" : \"Lab Teknisyeni\"}) - calisir\n",
    "df[\"JobRole\"] = df[\"JobRole\"].replace(r\"Laboratory Technician\", \"Lab Teknisyeni\", regex=True)\n",
    "df[\"JobRole\"]\n",
    "\n",
    "# # 🔍 Peki regex=True ne zaman gerekir?\n",
    "# Eğer içinde \"Laboratory Technician\" geçen ama tam olarak o olmayan değerler varsa (mesela):\n",
    "\n",
    "# \"Senior Laboratory Technician\"\n",
    "\n",
    "# \"Laboratory Technician Assistant\"\n",
    "\n",
    "# \"Technician - Laboratory\"\n",
    "\n",
    "# ...gibi ifadeleri de kapsamak istiyorsan regex=True kullanman gerekir:"
   ]
  }
 ],
 "metadata": {
  "kernelspec": {
   "display_name": "Python 3",
   "language": "python",
   "name": "python3"
  },
  "language_info": {
   "codemirror_mode": {
    "name": "ipython",
    "version": 3
   },
   "file_extension": ".py",
   "mimetype": "text/x-python",
   "name": "python",
   "nbconvert_exporter": "python",
   "pygments_lexer": "ipython3",
   "version": "3.13.2"
  }
 },
 "nbformat": 4,
 "nbformat_minor": 2
}
