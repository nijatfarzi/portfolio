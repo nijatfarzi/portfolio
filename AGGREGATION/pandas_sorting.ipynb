{
 "cells": [
  {
   "cell_type": "markdown",
   "id": "6437c9c1",
   "metadata": {},
   "source": [
    "# 🔀 Pandas: Sıralama ve Sıralı Seçim"
   ]
  },
  {
   "cell_type": "markdown",
   "id": "a11e112e",
   "metadata": {},
   "source": [
    "## 📌 1. data set"
   ]
  },
  {
   "cell_type": "code",
   "execution_count": 2,
   "id": "6b00f987",
   "metadata": {},
   "outputs": [
    {
     "data": {
      "text/html": [
       "<div>\n",
       "<style scoped>\n",
       "    .dataframe tbody tr th:only-of-type {\n",
       "        vertical-align: middle;\n",
       "    }\n",
       "\n",
       "    .dataframe tbody tr th {\n",
       "        vertical-align: top;\n",
       "    }\n",
       "\n",
       "    .dataframe thead th {\n",
       "        text-align: right;\n",
       "    }\n",
       "</style>\n",
       "<table border=\"1\" class=\"dataframe\">\n",
       "  <thead>\n",
       "    <tr style=\"text-align: right;\">\n",
       "      <th></th>\n",
       "      <th>Çalışan</th>\n",
       "      <th>Departman</th>\n",
       "      <th>Maaş</th>\n",
       "      <th>Yaş</th>\n",
       "    </tr>\n",
       "  </thead>\n",
       "  <tbody>\n",
       "    <tr>\n",
       "      <th>0</th>\n",
       "      <td>Ali</td>\n",
       "      <td>İK</td>\n",
       "      <td>5000</td>\n",
       "      <td>28</td>\n",
       "    </tr>\n",
       "    <tr>\n",
       "      <th>1</th>\n",
       "      <td>Ayşe</td>\n",
       "      <td>Finans</td>\n",
       "      <td>6000</td>\n",
       "      <td>34</td>\n",
       "    </tr>\n",
       "    <tr>\n",
       "      <th>2</th>\n",
       "      <td>Zeynep</td>\n",
       "      <td>İK</td>\n",
       "      <td>5200</td>\n",
       "      <td>26</td>\n",
       "    </tr>\n",
       "    <tr>\n",
       "      <th>3</th>\n",
       "      <td>Murat</td>\n",
       "      <td>Finans</td>\n",
       "      <td>5800</td>\n",
       "      <td>45</td>\n",
       "    </tr>\n",
       "    <tr>\n",
       "      <th>4</th>\n",
       "      <td>Ahmet</td>\n",
       "      <td>BT</td>\n",
       "      <td>7000</td>\n",
       "      <td>39</td>\n",
       "    </tr>\n",
       "  </tbody>\n",
       "</table>\n",
       "</div>"
      ],
      "text/plain": [
       "  Çalışan Departman  Maaş  Yaş\n",
       "0     Ali        İK  5000   28\n",
       "1    Ayşe    Finans  6000   34\n",
       "2  Zeynep        İK  5200   26\n",
       "3   Murat    Finans  5800   45\n",
       "4   Ahmet        BT  7000   39"
      ]
     },
     "execution_count": 2,
     "metadata": {},
     "output_type": "execute_result"
    }
   ],
   "source": [
    "import pandas as pd\n",
    "\n",
    "data = {\n",
    "    \"Çalışan\": [\"Ali\", \"Ayşe\", \"Zeynep\", \"Murat\", \"Ahmet\"],\n",
    "    \"Departman\": [\"İK\", \"Finans\", \"İK\", \"Finans\", \"BT\"],\n",
    "    \"Maaş\": [5000, 6000, 5200, 5800, 7000],\n",
    "    \"Yaş\": [28, 34, 26, 45, 39]\n",
    "}\n",
    "\n",
    "df = pd.DataFrame(data)\n",
    "df"
   ]
  },
  {
   "cell_type": "markdown",
   "id": "3b5afd80",
   "metadata": {},
   "source": [
    "## ✅ 2. `sort_values()` – Sütuna Göre Sıralama"
   ]
  },
  {
   "cell_type": "code",
   "execution_count": null,
   "id": "6b05180a",
   "metadata": {},
   "outputs": [],
   "source": [
    "# Maaşa göre artan sıralama\n",
    "df.sort_values(by=\"Maaş\")"
   ]
  },
  {
   "cell_type": "code",
   "execution_count": null,
   "id": "37d27cbd",
   "metadata": {},
   "outputs": [],
   "source": [
    "# Maaşa göre azalan sıralama\n",
    "df.sort_values(by=\"Maaş\", ascending=False)"
   ]
  },
  {
   "cell_type": "code",
   "execution_count": null,
   "id": "64c372f9",
   "metadata": {},
   "outputs": [],
   "source": [
    "# Birden cox sütuna göre sıralama: önce Departman, sonra Yaş\n",
    "df.sort_values(by=[\"Departman\", \"Yaş\"])"
   ]
  },
  {
   "cell_type": "markdown",
   "id": "5cd3b769",
   "metadata": {},
   "source": [
    "## ✅ 3. `sort_index()` – İndekse Göre Sıralama"
   ]
  },
  {
   "cell_type": "code",
   "execution_count": null,
   "id": "88d92c39",
   "metadata": {},
   "outputs": [],
   "source": [
    "# Varsayılan index sıralaması (artırarak)\n",
    "df.sort_index()"
   ]
  },
  {
   "cell_type": "code",
   "execution_count": null,
   "id": "1d73fe2b",
   "metadata": {},
   "outputs": [],
   "source": [
    "# Ters index sıralaması\n",
    "df.sort_index(ascending=False)"
   ]
  },
  {
   "cell_type": "markdown",
   "id": "0dfaf3f4",
   "metadata": {},
   "source": [
    "## 🧠 Mini Görevler\n",
    "\n",
    "### 1. Çalışanları yaşa göre küçükten büyüğe sırala.\n"
   ]
  },
  {
   "cell_type": "code",
   "execution_count": 3,
   "id": "1d00f234",
   "metadata": {},
   "outputs": [
    {
     "data": {
      "text/html": [
       "<div>\n",
       "<style scoped>\n",
       "    .dataframe tbody tr th:only-of-type {\n",
       "        vertical-align: middle;\n",
       "    }\n",
       "\n",
       "    .dataframe tbody tr th {\n",
       "        vertical-align: top;\n",
       "    }\n",
       "\n",
       "    .dataframe thead th {\n",
       "        text-align: right;\n",
       "    }\n",
       "</style>\n",
       "<table border=\"1\" class=\"dataframe\">\n",
       "  <thead>\n",
       "    <tr style=\"text-align: right;\">\n",
       "      <th></th>\n",
       "      <th>Çalışan</th>\n",
       "      <th>Departman</th>\n",
       "      <th>Maaş</th>\n",
       "      <th>Yaş</th>\n",
       "    </tr>\n",
       "  </thead>\n",
       "  <tbody>\n",
       "    <tr>\n",
       "      <th>2</th>\n",
       "      <td>Zeynep</td>\n",
       "      <td>İK</td>\n",
       "      <td>5200</td>\n",
       "      <td>26</td>\n",
       "    </tr>\n",
       "    <tr>\n",
       "      <th>0</th>\n",
       "      <td>Ali</td>\n",
       "      <td>İK</td>\n",
       "      <td>5000</td>\n",
       "      <td>28</td>\n",
       "    </tr>\n",
       "    <tr>\n",
       "      <th>1</th>\n",
       "      <td>Ayşe</td>\n",
       "      <td>Finans</td>\n",
       "      <td>6000</td>\n",
       "      <td>34</td>\n",
       "    </tr>\n",
       "    <tr>\n",
       "      <th>4</th>\n",
       "      <td>Ahmet</td>\n",
       "      <td>BT</td>\n",
       "      <td>7000</td>\n",
       "      <td>39</td>\n",
       "    </tr>\n",
       "    <tr>\n",
       "      <th>3</th>\n",
       "      <td>Murat</td>\n",
       "      <td>Finans</td>\n",
       "      <td>5800</td>\n",
       "      <td>45</td>\n",
       "    </tr>\n",
       "  </tbody>\n",
       "</table>\n",
       "</div>"
      ],
      "text/plain": [
       "  Çalışan Departman  Maaş  Yaş\n",
       "2  Zeynep        İK  5200   26\n",
       "0     Ali        İK  5000   28\n",
       "1    Ayşe    Finans  6000   34\n",
       "4   Ahmet        BT  7000   39\n",
       "3   Murat    Finans  5800   45"
      ]
     },
     "execution_count": 3,
     "metadata": {},
     "output_type": "execute_result"
    }
   ],
   "source": [
    "df.sort_values(by=\"Yaş\")"
   ]
  },
  {
   "cell_type": "code",
   "execution_count": 5,
   "id": "5846c62b",
   "metadata": {},
   "outputs": [
    {
     "data": {
      "text/html": [
       "<div>\n",
       "<style scoped>\n",
       "    .dataframe tbody tr th:only-of-type {\n",
       "        vertical-align: middle;\n",
       "    }\n",
       "\n",
       "    .dataframe tbody tr th {\n",
       "        vertical-align: top;\n",
       "    }\n",
       "\n",
       "    .dataframe thead th {\n",
       "        text-align: right;\n",
       "    }\n",
       "</style>\n",
       "<table border=\"1\" class=\"dataframe\">\n",
       "  <thead>\n",
       "    <tr style=\"text-align: right;\">\n",
       "      <th></th>\n",
       "      <th>Çalışan</th>\n",
       "      <th>Departman</th>\n",
       "      <th>Maaş</th>\n",
       "      <th>Yaş</th>\n",
       "    </tr>\n",
       "  </thead>\n",
       "  <tbody>\n",
       "    <tr>\n",
       "      <th>0</th>\n",
       "      <td>Ali</td>\n",
       "      <td>İK</td>\n",
       "      <td>5000</td>\n",
       "      <td>28</td>\n",
       "    </tr>\n",
       "    <tr>\n",
       "      <th>2</th>\n",
       "      <td>Zeynep</td>\n",
       "      <td>İK</td>\n",
       "      <td>5200</td>\n",
       "      <td>26</td>\n",
       "    </tr>\n",
       "    <tr>\n",
       "      <th>3</th>\n",
       "      <td>Murat</td>\n",
       "      <td>Finans</td>\n",
       "      <td>5800</td>\n",
       "      <td>45</td>\n",
       "    </tr>\n",
       "    <tr>\n",
       "      <th>1</th>\n",
       "      <td>Ayşe</td>\n",
       "      <td>Finans</td>\n",
       "      <td>6000</td>\n",
       "      <td>34</td>\n",
       "    </tr>\n",
       "    <tr>\n",
       "      <th>4</th>\n",
       "      <td>Ahmet</td>\n",
       "      <td>BT</td>\n",
       "      <td>7000</td>\n",
       "      <td>39</td>\n",
       "    </tr>\n",
       "  </tbody>\n",
       "</table>\n",
       "</div>"
      ],
      "text/plain": [
       "  Çalışan Departman  Maaş  Yaş\n",
       "0     Ali        İK  5000   28\n",
       "2  Zeynep        İK  5200   26\n",
       "3   Murat    Finans  5800   45\n",
       "1    Ayşe    Finans  6000   34\n",
       "4   Ahmet        BT  7000   39"
      ]
     },
     "execution_count": 5,
     "metadata": {},
     "output_type": "execute_result"
    }
   ],
   "source": [
    "### 2. Departman sırasına göre azalan, maaşa göre artan sırala.\n",
    "df.sort_values(by=\"Departman\", ascending=False).sort_values(by= \"Maaş\")"
   ]
  },
  {
   "cell_type": "code",
   "execution_count": 7,
   "id": "e940b108",
   "metadata": {},
   "outputs": [
    {
     "data": {
      "text/html": [
       "<div>\n",
       "<style scoped>\n",
       "    .dataframe tbody tr th:only-of-type {\n",
       "        vertical-align: middle;\n",
       "    }\n",
       "\n",
       "    .dataframe tbody tr th {\n",
       "        vertical-align: top;\n",
       "    }\n",
       "\n",
       "    .dataframe thead th {\n",
       "        text-align: right;\n",
       "    }\n",
       "</style>\n",
       "<table border=\"1\" class=\"dataframe\">\n",
       "  <thead>\n",
       "    <tr style=\"text-align: right;\">\n",
       "      <th></th>\n",
       "      <th>Çalışan</th>\n",
       "      <th>Departman</th>\n",
       "      <th>Maaş</th>\n",
       "      <th>Yaş</th>\n",
       "    </tr>\n",
       "  </thead>\n",
       "  <tbody>\n",
       "    <tr>\n",
       "      <th>4</th>\n",
       "      <td>Ahmet</td>\n",
       "      <td>BT</td>\n",
       "      <td>7000</td>\n",
       "      <td>39</td>\n",
       "    </tr>\n",
       "    <tr>\n",
       "      <th>3</th>\n",
       "      <td>Murat</td>\n",
       "      <td>Finans</td>\n",
       "      <td>5800</td>\n",
       "      <td>45</td>\n",
       "    </tr>\n",
       "    <tr>\n",
       "      <th>2</th>\n",
       "      <td>Zeynep</td>\n",
       "      <td>İK</td>\n",
       "      <td>5200</td>\n",
       "      <td>26</td>\n",
       "    </tr>\n",
       "    <tr>\n",
       "      <th>1</th>\n",
       "      <td>Ayşe</td>\n",
       "      <td>Finans</td>\n",
       "      <td>6000</td>\n",
       "      <td>34</td>\n",
       "    </tr>\n",
       "    <tr>\n",
       "      <th>0</th>\n",
       "      <td>Ali</td>\n",
       "      <td>İK</td>\n",
       "      <td>5000</td>\n",
       "      <td>28</td>\n",
       "    </tr>\n",
       "  </tbody>\n",
       "</table>\n",
       "</div>"
      ],
      "text/plain": [
       "  Çalışan Departman  Maaş  Yaş\n",
       "4   Ahmet        BT  7000   39\n",
       "3   Murat    Finans  5800   45\n",
       "2  Zeynep        İK  5200   26\n",
       "1    Ayşe    Finans  6000   34\n",
       "0     Ali        İK  5000   28"
      ]
     },
     "execution_count": 7,
     "metadata": {},
     "output_type": "execute_result"
    }
   ],
   "source": [
    "### 3. İndeksi ters çevir.\n",
    "\n",
    "df.sort_index(ascending= False)"
   ]
  }
 ],
 "metadata": {
  "kernelspec": {
   "display_name": "Python 3",
   "language": "python",
   "name": "python3"
  },
  "language_info": {
   "codemirror_mode": {
    "name": "ipython",
    "version": 3
   },
   "file_extension": ".py",
   "mimetype": "text/x-python",
   "name": "python",
   "nbconvert_exporter": "python",
   "pygments_lexer": "ipython3",
   "version": "3.13.2"
  }
 },
 "nbformat": 4,
 "nbformat_minor": 5
}
