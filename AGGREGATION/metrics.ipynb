{
 "cells": [
  {
   "cell_type": "code",
   "execution_count": 2,
   "id": "68e2b1d3",
   "metadata": {},
   "outputs": [],
   "source": [
    "import pandas as pd\n",
    "\n",
    "data = {\n",
    "    'CustomerID': [101, 102, 103, 104, 105, 106, 107, 108],\n",
    "    'PurchaseAmount': [120, 340, 120, 560, 340, 8000, 120, 340],\n",
    "    'Age': [25, 34, 25, 45, 34, 67, 25, 34],\n",
    "    'Gender': ['F', 'M', 'F', 'M', 'M', 'F', 'F', 'M']\n",
    "}\n",
    "\n",
    "df = pd.DataFrame(data)\n"
   ]
  },
  {
   "cell_type": "code",
   "execution_count": null,
   "id": "456403c5",
   "metadata": {},
   "outputs": [
    {
     "data": {
      "text/plain": [
       "np.int64(3)"
      ]
     },
     "execution_count": 25,
     "metadata": {},
     "output_type": "execute_result"
    }
   ],
   "source": [
    "# ⚔️ ZORLU GÖREVLER\n",
    "# Q1. PurchaseAmount sütununda en çox tekrar eden değeri (mode) ve nece defe keçtiğini kodla göster.\n",
    "df[\"PurchaseAmount\"].value_counts().sort_values(ascending=False)\n",
    "df[\"PurchaseAmount\"].mode()[0] #mode\n",
    "df[\"PurchaseAmount\"].value_counts().iloc[0] # mode sayi"
   ]
  },
  {
   "cell_type": "code",
   "execution_count": null,
   "id": "8d5e82c0",
   "metadata": {},
   "outputs": [
    {
     "data": {
      "text/plain": [
       "np.int64(67)"
      ]
     },
     "execution_count": 26,
     "metadata": {},
     "output_type": "execute_result"
    }
   ],
   "source": [
    "\n",
    "# Q2. Her yaş grubunun (Age) ortalama xerclemesini (PurchaseAmount) tap. Ortalaması en yüksek olan yaşı da yazdır.\n",
    "df.groupby(\"Age\")[\"PurchaseAmount\"].mean().sort_values(ascending=False).head(1)\n",
    "df.groupby(\"Age\")[\"PurchaseAmount\"].mean().idxmax() #yasi verir\n"
   ]
  },
  {
   "cell_type": "code",
   "execution_count": null,
   "id": "9ffb8002",
   "metadata": {},
   "outputs": [
    {
     "data": {
      "text/html": [
       "<div>\n",
       "<style scoped>\n",
       "    .dataframe tbody tr th:only-of-type {\n",
       "        vertical-align: middle;\n",
       "    }\n",
       "\n",
       "    .dataframe tbody tr th {\n",
       "        vertical-align: top;\n",
       "    }\n",
       "\n",
       "    .dataframe thead th {\n",
       "        text-align: right;\n",
       "    }\n",
       "</style>\n",
       "<table border=\"1\" class=\"dataframe\">\n",
       "  <thead>\n",
       "    <tr style=\"text-align: right;\">\n",
       "      <th></th>\n",
       "      <th>Age</th>\n",
       "      <th>PurchaseAmount</th>\n",
       "    </tr>\n",
       "  </thead>\n",
       "  <tbody>\n",
       "    <tr>\n",
       "      <th>0</th>\n",
       "      <td>25</td>\n",
       "      <td>360</td>\n",
       "    </tr>\n",
       "    <tr>\n",
       "      <th>1</th>\n",
       "      <td>34</td>\n",
       "      <td>1020</td>\n",
       "    </tr>\n",
       "  </tbody>\n",
       "</table>\n",
       "</div>"
      ],
      "text/plain": [
       "   Age  PurchaseAmount\n",
       "0   25             360\n",
       "1   34            1020"
      ]
     },
     "execution_count": 28,
     "metadata": {},
     "output_type": "execute_result"
    }
   ],
   "source": [
    "\n",
    "# Q3. Yaşı tekrar eden müşterilerin toplam xerclemesini (PurchaseAmount) toplayan bir table duzelt.\n",
    "# Önce tekrar eden yaşları tap:\n",
    "repeated_ages = df[\"Age\"].value_counts()\n",
    "repeated_ages = repeated_ages[repeated_ages > 1].index\n",
    "\n",
    "# Sonra bunlara ait satırları filtreleyib topla:\n",
    "df[df[\"Age\"].isin(repeated_ages)].groupby(\"Age\")[\"PurchaseAmount\"].sum().reset_index()\n"
   ]
  },
  {
   "cell_type": "code",
   "execution_count": null,
   "id": "5c4796d4",
   "metadata": {},
   "outputs": [
    {
     "data": {
      "text/html": [
       "<div>\n",
       "<style scoped>\n",
       "    .dataframe tbody tr th:only-of-type {\n",
       "        vertical-align: middle;\n",
       "    }\n",
       "\n",
       "    .dataframe tbody tr th {\n",
       "        vertical-align: top;\n",
       "    }\n",
       "\n",
       "    .dataframe thead th {\n",
       "        text-align: right;\n",
       "    }\n",
       "</style>\n",
       "<table border=\"1\" class=\"dataframe\">\n",
       "  <thead>\n",
       "    <tr style=\"text-align: right;\">\n",
       "      <th></th>\n",
       "      <th>Gender</th>\n",
       "      <th>CustomerID</th>\n",
       "      <th>PurchaseAmount</th>\n",
       "    </tr>\n",
       "  </thead>\n",
       "  <tbody>\n",
       "    <tr>\n",
       "      <th>5</th>\n",
       "      <td>F</td>\n",
       "      <td>106</td>\n",
       "      <td>8000</td>\n",
       "    </tr>\n",
       "    <tr>\n",
       "      <th>3</th>\n",
       "      <td>M</td>\n",
       "      <td>104</td>\n",
       "      <td>560</td>\n",
       "    </tr>\n",
       "  </tbody>\n",
       "</table>\n",
       "</div>"
      ],
      "text/plain": [
       "  Gender  CustomerID  PurchaseAmount\n",
       "5      F         106            8000\n",
       "3      M         104             560"
      ]
     },
     "execution_count": 29,
     "metadata": {},
     "output_type": "execute_result"
    }
   ],
   "source": [
    "\n",
    "# Q4. Butun numeric sütunlar (PurchaseAmount, Age) ucun standart sapma, ortalama ve toplam kimi metrikleri bir arada gösteren describe() benzeri ama oz agg() fonksiyonunla yaz.\n",
    "df[[\"PurchaseAmount\", \"Age\"]].agg([\"sum\",\"count\",\"mean\",\"std\"]).round(2)\n"
   ]
  },
  {
   "cell_type": "code",
   "execution_count": null,
   "id": "01f38d23",
   "metadata": {},
   "outputs": [
    {
     "data": {
      "text/html": [
       "<div>\n",
       "<style scoped>\n",
       "    .dataframe tbody tr th:only-of-type {\n",
       "        vertical-align: middle;\n",
       "    }\n",
       "\n",
       "    .dataframe tbody tr th {\n",
       "        vertical-align: top;\n",
       "    }\n",
       "\n",
       "    .dataframe thead th {\n",
       "        text-align: right;\n",
       "    }\n",
       "</style>\n",
       "<table border=\"1\" class=\"dataframe\">\n",
       "  <thead>\n",
       "    <tr style=\"text-align: right;\">\n",
       "      <th></th>\n",
       "      <th>Gender</th>\n",
       "      <th>CustomerID</th>\n",
       "      <th>PurchaseAmount</th>\n",
       "    </tr>\n",
       "  </thead>\n",
       "  <tbody>\n",
       "    <tr>\n",
       "      <th>5</th>\n",
       "      <td>F</td>\n",
       "      <td>106</td>\n",
       "      <td>8000</td>\n",
       "    </tr>\n",
       "    <tr>\n",
       "      <th>3</th>\n",
       "      <td>M</td>\n",
       "      <td>104</td>\n",
       "      <td>560</td>\n",
       "    </tr>\n",
       "  </tbody>\n",
       "</table>\n",
       "</div>"
      ],
      "text/plain": [
       "  Gender  CustomerID  PurchaseAmount\n",
       "5      F         106            8000\n",
       "3      M         104             560"
      ]
     },
     "execution_count": 30,
     "metadata": {},
     "output_type": "execute_result"
    }
   ],
   "source": [
    "# Q5. Cinsiyete göre (Gender) PurchaseAmount ucun:\n",
    "df.groupby(\"Gender\")[\"PurchaseAmount\"].agg([\"sum\",\"mean\",\"std\"]).reset_index()\n",
    "# Toplam\n",
    "\n",
    "# Ortalama\n",
    "\n",
    "# Standart sapma\n",
    "\n",
    "# En çox xercleyen müşteri ID’si (her cinsiyet ucun)\n",
    "\n",
    "# hamisi tek groupby() ile .\n",
    "df.loc[df.groupby(\"Gender\")[\"PurchaseAmount\"].idxmax(), [\"Gender\", \"CustomerID\", \"PurchaseAmount\"]]"
   ]
  }
 ],
 "metadata": {
  "kernelspec": {
   "display_name": "Python 3",
   "language": "python",
   "name": "python3"
  },
  "language_info": {
   "codemirror_mode": {
    "name": "ipython",
    "version": 3
   },
   "file_extension": ".py",
   "mimetype": "text/x-python",
   "name": "python",
   "nbconvert_exporter": "python",
   "pygments_lexer": "ipython3",
   "version": "3.13.2"
  }
 },
 "nbformat": 4,
 "nbformat_minor": 5
}
