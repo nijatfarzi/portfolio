{
 "cells": [
  {
   "cell_type": "markdown",
   "metadata": {},
   "source": [
    "# 📘 NumPy ile Veri Analizi – HR Data Uygulaması\n",
    "Bu dosyada NumPy kütüphanesini temel düzeyde tanıyacak ve HR Data.csv dosyası üzerinden örneklerle uygulayacağız."
   ]
  },
  {
   "cell_type": "code",
   "execution_count": 2,
   "metadata": {},
   "outputs": [],
   "source": [
    "# 🔹 NumPy ve Pandas kütüphanelerini içe aktar\n",
    "import numpy as np\n",
    "import pandas as pd"
   ]
  },
  {
   "cell_type": "markdown",
   "metadata": {},
   "source": [
    "## 🔹 HR Data.csv dosyasını oku"
   ]
  },
  {
   "cell_type": "code",
   "execution_count": 4,
   "metadata": {},
   "outputs": [
    {
     "data": {
      "text/html": [
       "<div>\n",
       "<style scoped>\n",
       "    .dataframe tbody tr th:only-of-type {\n",
       "        vertical-align: middle;\n",
       "    }\n",
       "\n",
       "    .dataframe tbody tr th {\n",
       "        vertical-align: top;\n",
       "    }\n",
       "\n",
       "    .dataframe thead th {\n",
       "        text-align: right;\n",
       "    }\n",
       "</style>\n",
       "<table border=\"1\" class=\"dataframe\">\n",
       "  <thead>\n",
       "    <tr style=\"text-align: right;\">\n",
       "      <th></th>\n",
       "      <th>Age</th>\n",
       "      <th>DailyRate</th>\n",
       "      <th>DistanceFromHome</th>\n",
       "      <th>Education</th>\n",
       "      <th>EmployeeCount</th>\n",
       "      <th>EmployeeNumber</th>\n",
       "      <th>JobSatisfaction</th>\n",
       "      <th>MonthlyIncome</th>\n",
       "      <th>MonthlyRate</th>\n",
       "      <th>PerformanceRating</th>\n",
       "      <th>TotalWorkingYears</th>\n",
       "    </tr>\n",
       "  </thead>\n",
       "  <tbody>\n",
       "    <tr>\n",
       "      <th>0</th>\n",
       "      <td>41</td>\n",
       "      <td>1102</td>\n",
       "      <td>1</td>\n",
       "      <td>2</td>\n",
       "      <td>1</td>\n",
       "      <td>1</td>\n",
       "      <td>4</td>\n",
       "      <td>5993</td>\n",
       "      <td>19479</td>\n",
       "      <td>3</td>\n",
       "      <td>8</td>\n",
       "    </tr>\n",
       "    <tr>\n",
       "      <th>1</th>\n",
       "      <td>49</td>\n",
       "      <td>279</td>\n",
       "      <td>8</td>\n",
       "      <td>1</td>\n",
       "      <td>1</td>\n",
       "      <td>2</td>\n",
       "      <td>2</td>\n",
       "      <td>5130</td>\n",
       "      <td>24907</td>\n",
       "      <td>4</td>\n",
       "      <td>10</td>\n",
       "    </tr>\n",
       "    <tr>\n",
       "      <th>2</th>\n",
       "      <td>37</td>\n",
       "      <td>1373</td>\n",
       "      <td>2</td>\n",
       "      <td>2</td>\n",
       "      <td>1</td>\n",
       "      <td>4</td>\n",
       "      <td>3</td>\n",
       "      <td>2090</td>\n",
       "      <td>2396</td>\n",
       "      <td>3</td>\n",
       "      <td>7</td>\n",
       "    </tr>\n",
       "    <tr>\n",
       "      <th>3</th>\n",
       "      <td>33</td>\n",
       "      <td>1392</td>\n",
       "      <td>3</td>\n",
       "      <td>4</td>\n",
       "      <td>1</td>\n",
       "      <td>5</td>\n",
       "      <td>3</td>\n",
       "      <td>2909</td>\n",
       "      <td>23159</td>\n",
       "      <td>3</td>\n",
       "      <td>8</td>\n",
       "    </tr>\n",
       "    <tr>\n",
       "      <th>4</th>\n",
       "      <td>27</td>\n",
       "      <td>591</td>\n",
       "      <td>2</td>\n",
       "      <td>1</td>\n",
       "      <td>1</td>\n",
       "      <td>7</td>\n",
       "      <td>2</td>\n",
       "      <td>3468</td>\n",
       "      <td>16632</td>\n",
       "      <td>3</td>\n",
       "      <td>6</td>\n",
       "    </tr>\n",
       "  </tbody>\n",
       "</table>\n",
       "</div>"
      ],
      "text/plain": [
       "   Age  DailyRate  DistanceFromHome  Education  EmployeeCount  EmployeeNumber  \\\n",
       "0   41       1102                 1          2              1               1   \n",
       "1   49        279                 8          1              1               2   \n",
       "2   37       1373                 2          2              1               4   \n",
       "3   33       1392                 3          4              1               5   \n",
       "4   27        591                 2          1              1               7   \n",
       "\n",
       "   JobSatisfaction  MonthlyIncome  MonthlyRate  PerformanceRating  \\\n",
       "0                4           5993        19479                  3   \n",
       "1                2           5130        24907                  4   \n",
       "2                3           2090         2396                  3   \n",
       "3                3           2909        23159                  3   \n",
       "4                2           3468        16632                  3   \n",
       "\n",
       "   TotalWorkingYears  \n",
       "0                  8  \n",
       "1                 10  \n",
       "2                  7  \n",
       "3                  8  \n",
       "4                  6  "
      ]
     },
     "execution_count": 4,
     "metadata": {},
     "output_type": "execute_result"
    }
   ],
   "source": [
    "# CSV dosyasını oku\n",
    "df = pd.read_csv('HR Data.csv')\n",
    "# Sadece sayısal sütunları al\n",
    "numeric_df = df.select_dtypes(include='number')\n",
    "# NumPy array'e çevir\n",
    "veri = numeric_df.to_numpy()\n",
    "numeric_df.head()"
   ]
  },
  {
   "cell_type": "markdown",
   "metadata": {},
   "source": [
    "Özellik\t                   np.array()\t                                .to_numpy()\n",
    "\n",
    "Veri kaynağı\t    Python list, tuple, vs. (elle verirsin)\t      DataFrame (otomatik çeviri)\n",
    "Kullanım amacı\t    Manuel NumPy array üretimi\t                  Var olan DataFrame'den NumPy al\n",
    "Kontrol\t            Tamamen sende\t                              Mevcut tabloya bağlı\n",
    "Sütun isimleri?\t    Yok\t                                          Yok (çevrildiği anda isimler kaybolur)\n"
   ]
  },
  {
   "cell_type": "markdown",
   "metadata": {},
   "source": [
    "## 🔹 NumPy ile Temel İşlemler"
   ]
  },
  {
   "cell_type": "code",
   "execution_count": 5,
   "metadata": {},
   "outputs": [
    {
     "name": "stdout",
     "output_type": "stream",
     "text": [
      "Ortalama Yaş: 36.92\n",
      "Ortalama Maaş: 6502.93\n"
     ]
    }
   ],
   "source": [
    "# Ortalama yaş ve maaş hesapla\n",
    "ortalama_yas = np.mean(numeric_df['Age'])\n",
    "ortalama_maas = np.mean(numeric_df['MonthlyIncome'])\n",
    "print('Ortalama Yaş:', round(ortalama_yas, 2))\n",
    "print('Ortalama Maaş:', round(ortalama_maas, 2))"
   ]
  },
  {
   "cell_type": "markdown",
   "metadata": {},
   "source": [
    "| Nereden?             | Kolaylık | Yorum                           |\n",
    "|----------------------|----------|---------------------------------|\n",
    "| `numeric_df['Age']`  | ✅       | Anlaşılır, sütun ismi var       |\n",
    "| `veri[:, 0]`         | ✅✅     | Hızlı, ama dikkatli olmalı      |\n",
    "\n"
   ]
  },
  {
   "cell_type": "code",
   "execution_count": null,
   "metadata": {},
   "outputs": [],
   "source": [
    "# Ortalama maaştan yüksek maaş alan kişi sayısı\n",
    "maas_dizisi = numeric_df['MonthlyIncome'].to_numpy()\n",
    "ust_maas_sayisi = np.sum(maas_dizisi > ortalama_maas) # np.sum True False -leri topluyur 1+0+0+1+1\n",
    "print('Ortalama maaş üstü alan kişi sayısı:', ust_maas_sayisi)\n",
    "\n",
    "# numeric_df[numeric_df[\"MonthlyIncome\"] > ortalama_maas].shape[0]\n",
    "# Pandas ile sayi\n"
   ]
  },
  {
   "cell_type": "code",
   "execution_count": 7,
   "metadata": {},
   "outputs": [
    {
     "name": "stdout",
     "output_type": "stream",
     "text": [
      "İlk 5 kişinin Yaş - Tecrübe farkı: [33 39 30 25 21]\n"
     ]
    }
   ],
   "source": [
    "# Yaş - Tecrübe farkı\n",
    "yas = numeric_df['Age'].to_numpy()                        # örnek: [41, 49, 37, 33, 27, ...]\n",
    "tecrube = numeric_df['TotalWorkingYears'].to_numpy()      # örnek: [8, 10, 7, 8, 6, ...]\n",
    "tecrube_farki = yas - tecrube\n",
    "\n",
    "#yas ve tecrube iki farklı NumPy dizisi (aynı uzunlukta),\n",
    "# NumPy bu dizilerin aynı indexlerindeki elemanları çıkarır:\n",
    "#[41 - 8, 49 - 10, 37 - 7, 33 - 8, 27 - 6] = [33, 39, 30, 25, 21]\n",
    "\n",
    "print('İlk 5 kişinin Yaş - Tecrübe farkı:', tecrube_farki[:5]) "
   ]
  },
  {
   "cell_type": "code",
   "execution_count": null,
   "metadata": {},
   "outputs": [],
   "source": [
    "# Satır ve sütun ortalamaları\n",
    "satir_ortalamalari = np.mean(veri, axis=1)\n",
    "sutun_ortalamalari = np.mean(veri, axis=0)\n",
    "print('İlk 5 satır ortalaması:', satir_ortalamalari[:5])\n",
    "print('Tüm sütun ortalamaları:', np.round(sutun_ortalamalari, 2))\n",
    "\n",
    "# axis = 0 → dikine hesap → sütun sütun\n",
    "# axis = 1 → yatay hesap → satır satır\n"
   ]
  }
 ],
 "metadata": {
  "kernelspec": {
   "display_name": "Python 3",
   "language": "python",
   "name": "python3"
  },
  "language_info": {
   "codemirror_mode": {
    "name": "ipython",
    "version": 3
   },
   "file_extension": ".py",
   "mimetype": "text/x-python",
   "name": "python",
   "nbconvert_exporter": "python",
   "pygments_lexer": "ipython3",
   "version": "3.13.2"
  }
 },
 "nbformat": 4,
 "nbformat_minor": 2
}
