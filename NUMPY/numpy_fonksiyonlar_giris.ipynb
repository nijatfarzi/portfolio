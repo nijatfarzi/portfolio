{
 "cells": [
  {
   "cell_type": "markdown",
   "metadata": {},
   "source": [
    "# 📘 NumPy Temelleri – Fonksiyonlar ve Kullanımı\n",
    "Bu dosyada NumPy kütüphanesinin temel fonksiyonlarını sırayla öğreneceğiz ve her fonksiyonun ardından küçük uygulamalarla pekiştireceğiz.\n",
    "\n",
    "---\n",
    "## 🔹 NumPy'yi içe aktaralım"
   ]
  },
  {
   "cell_type": "code",
   "execution_count": 5,
   "metadata": {},
   "outputs": [],
   "source": [
    "import pandas as pd\n",
    "import numpy as np"
   ]
  },
  {
   "cell_type": "markdown",
   "metadata": {},
   "source": [
    "## 🔸 1. np.array() – Dizi oluşturma"
   ]
  },
  {
   "cell_type": "code",
   "execution_count": null,
   "metadata": {},
   "outputs": [],
   "source": [
    "# Listeyi NumPy dizisine çevirme\n",
    "liste = [1, 2, 3, 4]\n",
    "dizi = np.array(liste)\n",
    "print('Oluşturulan NumPy dizisi:', dizi)\n",
    "print('Veri tipi:', type(dizi))"
   ]
  },
  {
   "cell_type": "markdown",
   "metadata": {},
   "source": [
    "## 🔸 2. np.arange() – Aralıklı sayılarla dizi oluşturma"
   ]
  },
  {
   "cell_type": "code",
   "execution_count": null,
   "metadata": {},
   "outputs": [],
   "source": [
    "aralikli_dizi = np.arange(0, 10, 2)\n",
    "print('0-10 arası 2 şer artan dizi:', aralikli_dizi)"
   ]
  },
  {
   "cell_type": "markdown",
   "metadata": {},
   "source": [
    "## 🔸 3. np.zeros(), np.ones(), np.eye() – Özel matrisler"
   ]
  },
  {
   "cell_type": "code",
   "execution_count": null,
   "metadata": {},
   "outputs": [],
   "source": [
    "print('3x3 sıfırlardan matris:\\n', np.zeros((3,3)))\n",
    "print('2x4 birlerden matris:\\n', np.ones((2,4)))\n",
    "print('4x4 birim matris:\\n', np.eye(4))"
   ]
  },
  {
   "cell_type": "markdown",
   "metadata": {},
   "source": [
    "## 🔸 4. np.random – Rastgele sayı üretimi"
   ]
  },
  {
   "cell_type": "code",
   "execution_count": null,
   "metadata": {},
   "outputs": [],
   "source": [
    "print('0-1 arasında 5 sayı:', np.random.rand(5))\n",
    "print('2x3 rastgele matris:', np.random.rand(2, 3))"
   ]
  },
  {
   "cell_type": "markdown",
   "metadata": {},
   "source": [
    "## 🔸 5. Şekil ve boyut değiştirme: reshape()"
   ]
  },
  {
   "cell_type": "code",
   "execution_count": null,
   "metadata": {},
   "outputs": [],
   "source": [
    "a = np.arange(12)\n",
    "print('Orijinal:', a)\n",
    "reshaped = a.reshape((3, 4))\n",
    "print('3x4 şekline getirilmiş:', reshaped)"
   ]
  },
  {
   "cell_type": "markdown",
   "metadata": {},
   "source": [
    "## 🔸 6. Temel istatistik fonksiyonları: mean(), sum(), std(), max(), min()"
   ]
  },
  {
   "cell_type": "code",
   "execution_count": null,
   "metadata": {},
   "outputs": [],
   "source": [
    "veri = np.array([4, 7, 13, 2, 9])\n",
    "print('Ortalama:', np.mean(veri))\n",
    "print('Toplam:', np.sum(veri))\n",
    "print('Standart Sapma:', np.std(veri))\n",
    "print('Maksimum:', np.max(veri))\n",
    "print('Minimum:', np.min(veri))"
   ]
  },
  {
   "cell_type": "code",
   "execution_count": 6,
   "metadata": {},
   "outputs": [
    {
     "name": "stdout",
     "output_type": "stream",
     "text": [
      "5860.661262445185\n"
     ]
    }
   ],
   "source": [
    "\n",
    "# 🔹 Görev 1: Ortalama çalışma yılına göre maaş farkı\n",
    "# Ortalama TotalWorkingYears'i hesapla.\n",
    "# Bu ortalamadan düşük olanların ve yüksek olanların maaş ortalamalarını karşılaştır.\n",
    "\n",
    "\n",
    "df = pd.read_csv(\"HR Data.csv\")\n",
    "numeric_df = df.select_dtypes(include= \"number\")\n",
    "veri = numeric_df.to_numpy()\n",
    "\n",
    "# ortalama_calisma = numeric_df[\"TottalWorkingYears\"].mean()\n",
    "ortalama_yil = np.mean(numeric_df[\"TotalWorkingYears\"])\n",
    "dusukler = numeric_df[numeric_df[\"TotalWorkingYears\"] < ortalama_yil]\n",
    "yuksekler = numeric_df[numeric_df[\"TotalWorkingYears\"] > ortalama_yil]\n",
    "\n",
    "karsilastirma = yuksekler[\"MonthlyIncome\"].mean() - dusukler[\"MonthlyIncome\"].mean()\n",
    "print(karsilastirma)\n"
   ]
  },
  {
   "cell_type": "code",
   "execution_count": 31,
   "metadata": {},
   "outputs": [
    {
     "name": "stdout",
     "output_type": "stream",
     "text": [
      "      Age  MonthlyIncome  TotalWorkingYears\n",
      "1209   60          10883                 19\n",
      "411    60          19566                 33\n",
      "427    60          10266                 22\n",
      "879    60           5220                 12\n",
      "536    60           5405                 10\n",
      "70     59           5473                 20\n",
      "63     59           7637                 28\n",
      "919    59          10512                 25\n",
      "758    59          11904                 14\n",
      "897    59           5171                 13\n"
     ]
    }
   ],
   "source": [
    "\n",
    "# 🔹 Görev 2: En yaşlı 10 çalışanın yaş, maaş ve tecrübe bilgilerini yazdır\n",
    "# NumPy ile sıralama (argsort() veya np.sort() + slicing) yap.\n",
    "\n",
    "enyaslilar = numeric_df.sort_values(\"Age\", ascending= False)\n",
    "\n",
    "print(enyaslilar[[\"Age\",\"MonthlyIncome\", \"TotalWorkingYears\"]].head(10))\n"
   ]
  },
  {
   "cell_type": "code",
   "execution_count": 7,
   "metadata": {},
   "outputs": [],
   "source": [
    "\n",
    "# 🔹 Görev 3: Yaş ve Tecrübe farkı 25 yıldan fazla olan çalışan sayısı\n",
    "# yas - tecrube > 25 olanların toplamı kaç?\n",
    "yas = numeric_df[\"Age\"].to_numpy()\n",
    "tecrube = numeric_df[\"TotalWorkingYears\"].to_numpy()\n",
    "toplam = np.sum(yas - tecrube > 25)"
   ]
  },
  {
   "cell_type": "code",
   "execution_count": 8,
   "metadata": {},
   "outputs": [
    {
     "name": "stdout",
     "output_type": "stream",
     "text": [
      "Rastgele 5 çalışan (Yaş, Maaş):\n",
      "[[   42 13191]\n",
      " [   50 10496]\n",
      " [   26  4364]\n",
      " [   31  9936]\n",
      " [   25  5206]]\n",
      "10000 üzeri maaş alanların oranı: % 19.12\n",
      "En yüksek skorlu 3 çalışan:\n",
      "     Age  TotalWorkingYears  JobSatisfaction\n",
      "126   58                 40                4\n",
      "595   58                 40                2\n",
      "98    58                 38                3\n"
     ]
    }
   ],
   "source": [
    "\n",
    "# 🔹 Görev 4: Ortalama performans skoru kaç?\n",
    "# PerformanceRating sütununun ortalamasını bul.\n",
    "\n",
    "np.mean(numeric_df[\"PerformanceRating\"])\n",
    "\n",
    "# 🔹 Görev 5: Rastgele 5 çalışan seç, yaş ve maaşlarını listele\n",
    "# np.random.choice() ile index üretip o index'leri yazdır.\n",
    "\n",
    "random_index = np.random.choice(veri.shape[0], 5, replace=False)\n",
    "secili = veri[random_index]\n",
    "print(\"Rastgele 5 çalışan (Yaş, Maaş):\")\n",
    "print(secili[:, [0, 7]])  # 0: Age, 7: MonthlyIncome (indeksi senin df yapısına göre ayarlarsın)\n",
    "\n",
    "\n",
    "# 🔹 Görev 6: Aylık maaşı 10000'den fazla olanların yüzdesini hesapla\n",
    "# MonthlyIncome > 10000 olanları say ve tüm çalışan sayısına böl.\n",
    "\n",
    "oran = np.sum(numeric_df[\"MonthlyIncome\"] > 10000) / numeric_df.shape[0]\n",
    "print(\"10000 üzeri maaş alanların oranı: %\", round(oran * 100, 2))\n",
    "\n",
    "\n",
    "# 🔹 Görev 7: Satır bazlı skor: Yaş + Tecrübe + Memnuniyet\n",
    "# Her çalışanın Age + TotalWorkingYears + JobSatisfaction skorunu hesapla, en yüksek 3 kişiyi yazdır.\n",
    "\n",
    "yas = numeric_df[\"Age\"].to_numpy()\n",
    "tecrube = numeric_df[\"TotalWorkingYears\"].to_numpy()\n",
    "memnuniyet = numeric_df[\"JobSatisfaction\"].to_numpy()\n",
    "\n",
    "skor = yas + tecrube + memnuniyet\n",
    "en_yuksek_indexler = np.argsort(skor)[-3:][::-1]\n",
    "print(\"En yüksek skorlu 3 çalışan:\")\n",
    "print(numeric_df.iloc[en_yuksek_indexler][[\"Age\", \"TotalWorkingYears\", \"JobSatisfaction\"]])\n",
    "\n",
    "\n"
   ]
  }
 ],
 "metadata": {
  "kernelspec": {
   "display_name": "Python 3",
   "language": "python",
   "name": "python3"
  },
  "language_info": {
   "codemirror_mode": {
    "name": "ipython",
    "version": 3
   },
   "file_extension": ".py",
   "mimetype": "text/x-python",
   "name": "python",
   "nbconvert_exporter": "python",
   "pygments_lexer": "ipython3",
   "version": "3.13.2"
  }
 },
 "nbformat": 4,
 "nbformat_minor": 2
}
