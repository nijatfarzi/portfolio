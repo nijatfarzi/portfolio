{
 "cells": [
  {
   "cell_type": "code",
   "execution_count": 37,
   "id": "b927b845",
   "metadata": {},
   "outputs": [
    {
     "name": "stdout",
     "output_type": "stream",
     "text": [
      "   Age  MonthlyIncome\n",
      "0   41           5993\n",
      "1   49           5130\n",
      "2   37           2090\n",
      "6   59           2670\n",
      "8   38           9526\n",
      "[41 49 37 59 38 53 38 53 42 44 46 44 39 43 50 41 37 46 48 44 37 38 50 59\n",
      " 55 45 59 45 37 46 55 38 56 51 46 40 51 46 54 58 44 37 37 59 50 51 54 37\n",
      " 43 56 51 58 49 43 50 41 51 39 45 38 41 41 40 53 45 51 58 40 57 50 41 38\n",
      " 45 56 46 38 41 50 53 40 55 51 52 43 45 37 42 38 38 49 40 38 40 46 51 41\n",
      " 45 54 37 38 59 37 52 42 59 50 43 52 39 41 40 45 37 45 37 39 42 42 40 51\n",
      " 38 46 45 55 47 37 37 38 50 53 42 55 37 44 38 49 37 42 51 41 39 38 58 45\n",
      " 39 43 49 52 39 39 47 43 54 43 45 40 37 38 41 47 42 42 48 37 42 57 40 37\n",
      " 46 41 50 40 49 51 55 37 40 42 37 43 40 54 43 43 37 39 56 41 52 45 52 42\n",
      " 60 46 42 38 40 57 50 60 47 46 54 46 42 48 55 41 40 39 42 45 40 41 37 46\n",
      " 41 37 52 38 37 49 50 37 42 43 38 43 48 44 44 53 45 37 54 38 48 37 50 39\n",
      " 50 38 47 40 53 41 60 41 50 38 44 47 42 43 39 56 40 53 38 52 45 47 55 52\n",
      " 54 37 38 40 42 52 50 47 58 42 40 45 42 38 49 55 43 51 44 53 45 52 37 44\n",
      " 42 49 38 42 53 37 53 43 47 37 50 39 44 58 43 47 41 39 42 58 49 48 38 40\n",
      " 41 40 37 45 52 58 53 38 39 40 47 45 50 41 45 47 50 38 46 54 48 48 41 39\n",
      " 42 50 59 37 55 41 38 52 44 50 39 45 59 45 53 38 50 37 40 46 54 56 55 43\n",
      " 46 51 41 38 40 55 44 37 42 50 48 45 52 38 46 38 43 39 40 39 49 42 38 41\n",
      " 37 40 42 42 40 43 56 45 37 44 53 46 44 41 40 50 46 44 46 42 60 40 42 54\n",
      " 44 54 59 43 49 48 48 44 45 55 46 51 59 44 42 43 44 51 45 39 58 39 46 50\n",
      " 40 52 39 41 44 42 55 56 40 40 41 51 38 58 40 48 51 55 56 40 38 39 51 41\n",
      " 37 39 52 43 42 52 37 49 54 58 55 47 37 56 47 41 40 46 39 45 45 48 40 44\n",
      " 53 49 40 44 42 44 57 49 44 55 47 49 54 44 39 46 40 50 42 37 45 42 40 40\n",
      " 40 45 48 38 53 38 48 55 38 38 39 50 42 40 43 46 50 44 45 45 49 39 47 39\n",
      " 40 37 39 45 38 37 40 44 48 40 39 49 50 49 54 43 38 49 38 47 49 41 44 38\n",
      " 53 48 55 60 37 44 43 41 45 47 45 41 40 46 47 46 39 40 45 49 38 38 43 42\n",
      " 55 41 53 43 38 51 37 46 44 37 39 46 40 42 38 37 39 43 41 41 46 40 58 47\n",
      " 40 54 38 58 45 43 42 47 46 42 46 43 48 46 39 55 37 45 40 48 44 56 41 42\n",
      " 45 39 47 56 39 38 58 38 49 42 38 53 54 43 38 55 39 42 54 40 40 47 38 38\n",
      " 42 41 47 40 39 38 37 52 44 39 56 42 56 41 41 38 50 45 40 40 50 39 39 49]\n"
     ]
    }
   ],
   "source": [
    "# 🧠 NumPy Görev 1: Ortalama Yaşın Üzerindekiler\n",
    "\n",
    "import pandas as pd\n",
    "import numpy as np\n",
    "\n",
    "df = pd.read_csv(\"HR Data.csv\")\n",
    "yaslar = df[\"Age\"].to_numpy()\n",
    "\n",
    "\n",
    "# Bu yaşın üzerinde olanları filtrele ve listele\n",
    "# 🎯 Amaç: np.mean() ile yaşların ortalamasını bul, yaslar > ortalama ile filtrele.\n",
    "\n",
    "# yaslar.mean().round(2)   # np.float64(36.92)\n",
    "ortalam_yas = np.mean(yaslar)  #.round(2)\n",
    "# uzerinde = yaslar > ortalam_yas \n",
    "uzerindekiler = df[df[\"Age\"] > ortalam_yas]\n",
    "print(uzerindekiler[[\"Age\", \"MonthlyIncome\"]].head())\n",
    "# Ortalama yaşı hesapla\n",
    "print(yaslar[yaslar > ortalam_yas])\n"
   ]
  },
  {
   "cell_type": "code",
   "execution_count": null,
   "id": "fb6da36e",
   "metadata": {},
   "outputs": [
    {
     "data": {
      "text/plain": [
       "array([1009, 1051, 1052, 1081, 1091, 1102, 1118, 1129, 1200, 1223])"
      ]
     },
     "execution_count": 23,
     "metadata": {},
     "output_type": "execute_result"
    }
   ],
   "source": [
    "\n",
    "# 🧠 NumPy Görev 2: En Düşük 10 Maaşı Bul\n",
    "\n",
    "from numpy import argsort\n",
    "\n",
    "\n",
    "maaslar = df[\"MonthlyIncome\"].to_numpy()\n",
    "# maaslar = argsort(maaslar) -- anlat artik su argsortu\n",
    "np.sort(maaslar)[:10]\n",
    "\n",
    "# En düşük 10 maaşı küçükten büyüğe sıralı şekilde yazdır\n",
    "# 🎯 İpucu: np.sort(maaslar)[:10] kullanabilirsin.\n",
    "\n",
    "# 🔹 np.argsort(maaslar)\n",
    "# Bu, sıralama sonucu ortaya çıkan indeksleri verir. Yani:\n",
    "\n",
    "# \"Sıralamak istiyorsan hangi indeksleri hangi sırayla alman gerekir?\"\n",
    "\n",
    "# 📦 Örnek:\n",
    "\n",
    "maaslar = np.array([5000, 2000, 8000])\n",
    "np.argsort(maaslar)\n",
    "# ➜ [1, 0, 2]\n",
    "# Bu şu demek:\n",
    "\n",
    "# En küçük maaş 2000 → index 1\n",
    "# Sonra 5000 → index 0\n",
    "# Sonra 8000 → index 2\n",
    "\n",
    "# 🎯 Gerçek Hayatta Nasıl Kullanılır?\n",
    "# Eğer sadece maaşları görmek istiyorsan → np.sort(maaslar)\n",
    "\n",
    "# Ama eğer orijinal DataFrame'deki \"en düşük maaşlı çalışanların diğer bilgilerini\" istiyorsan → argsort() kullanmalısın!\n",
    "\n",
    "siralama = np.argsort(maaslar)\n",
    "df.iloc[siralama[:10]][[\"Age\", \"MonthlyIncome\", \"JobRole\"]]\n",
    "# Bu sana en düşük maaşlı 10 kişinin yaşını, maaşını ve görevini verir 🔍"
   ]
  },
  {
   "cell_type": "code",
   "execution_count": 26,
   "id": "1c421ef8",
   "metadata": {},
   "outputs": [
    {
     "name": "stdout",
     "output_type": "stream",
     "text": [
      "[0.2   0.25  0.175 0.2   0.15 ]\n"
     ]
    }
   ],
   "source": [
    "\n",
    "# 🧠 NumPy Görev 3: TotalWorkingYears Değerlerini Normalize Et\n",
    "\n",
    "yillar = df[\"TotalWorkingYears\"].to_numpy()\n",
    "\n",
    "# (değer - min) / (max - min) formülüyle normalize et\n",
    "# Normalize edilmiş ilk 5 değeri yazdır\n",
    "# 🎯 Bu işlemle veriyi 0 ile 1 arasına çekiyoruz. min, max, mean gibi fonksiyonlar için NumPy çok hızlı çalışır.\n",
    "norm = (yillar - np.min(yillar)) / (np.max(yillar) - np.min(yillar))\n",
    "print(norm[:5])"
   ]
  },
  {
   "cell_type": "code",
   "execution_count": null,
   "id": "ad6bdab6",
   "metadata": {},
   "outputs": [
    {
     "data": {
      "text/plain": [
       "array([[1.        , 0.49785457],\n",
       "       [0.49785457, 1.        ]])"
      ]
     },
     "execution_count": 27,
     "metadata": {},
     "output_type": "execute_result"
    }
   ],
   "source": [
    "\n",
    "# 🧠 NumPy Görev 4: Yaş ve Gelir Korelasyonu (Sadece NumPy ile)\n",
    "\n",
    "yas = df[\"Age\"].to_numpy()\n",
    "gelir = df[\"MonthlyIncome\"].to_numpy()\n",
    "\n",
    "np.corrcoef(yas, gelir) # bi sey anlamadim zaten\n",
    "# np.corrcoef ile yaş ve gelir arasındaki korelasyonu hesapla\n",
    "# 🎯 Bu görevle korelasyon matrisinden sayıyı çekmeyi de öğrenmiş olacaksın!\n",
    "\n"
   ]
  }
 ],
 "metadata": {
  "kernelspec": {
   "display_name": "Python 3",
   "language": "python",
   "name": "python3"
  },
  "language_info": {
   "codemirror_mode": {
    "name": "ipython",
    "version": 3
   },
   "file_extension": ".py",
   "mimetype": "text/x-python",
   "name": "python",
   "nbconvert_exporter": "python",
   "pygments_lexer": "ipython3",
   "version": "3.13.2"
  }
 },
 "nbformat": 4,
 "nbformat_minor": 5
}
