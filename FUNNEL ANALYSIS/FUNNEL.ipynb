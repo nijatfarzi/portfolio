{
 "cells": [
  {
   "cell_type": "code",
   "execution_count": 2,
   "id": "61c60605",
   "metadata": {},
   "outputs": [
    {
     "data": {
      "text/html": [
       "<div>\n",
       "<style scoped>\n",
       "    .dataframe tbody tr th:only-of-type {\n",
       "        vertical-align: middle;\n",
       "    }\n",
       "\n",
       "    .dataframe tbody tr th {\n",
       "        vertical-align: top;\n",
       "    }\n",
       "\n",
       "    .dataframe thead th {\n",
       "        text-align: right;\n",
       "    }\n",
       "</style>\n",
       "<table border=\"1\" class=\"dataframe\">\n",
       "  <thead>\n",
       "    <tr style=\"text-align: right;\">\n",
       "      <th></th>\n",
       "      <th>user_id</th>\n",
       "      <th>timestamp</th>\n",
       "      <th>event_name</th>\n",
       "      <th>session_id</th>\n",
       "      <th>device</th>\n",
       "      <th>page_url</th>\n",
       "      <th>duration</th>\n",
       "    </tr>\n",
       "  </thead>\n",
       "  <tbody>\n",
       "    <tr>\n",
       "      <th>0</th>\n",
       "      <td>user_103</td>\n",
       "      <td>2025-04-26 13:47:41.718266</td>\n",
       "      <td>purchase_complete</td>\n",
       "      <td>session_52</td>\n",
       "      <td>tablet</td>\n",
       "      <td>https://example.com/purchase</td>\n",
       "      <td>76</td>\n",
       "    </tr>\n",
       "    <tr>\n",
       "      <th>1</th>\n",
       "      <td>user_615</td>\n",
       "      <td>2025-05-05 06:47:41.718715</td>\n",
       "      <td>homepage_view</td>\n",
       "      <td>session_83</td>\n",
       "      <td>tablet</td>\n",
       "      <td>https://example.com/homepage</td>\n",
       "      <td>92</td>\n",
       "    </tr>\n",
       "    <tr>\n",
       "      <th>2</th>\n",
       "      <td>user_872</td>\n",
       "      <td>2025-05-01 22:47:41.719023</td>\n",
       "      <td>product_click</td>\n",
       "      <td>session_24</td>\n",
       "      <td>mobile</td>\n",
       "      <td>https://example.com/product</td>\n",
       "      <td>6</td>\n",
       "    </tr>\n",
       "    <tr>\n",
       "      <th>3</th>\n",
       "      <td>user_414</td>\n",
       "      <td>2025-05-13 12:47:41.719306</td>\n",
       "      <td>homepage_view</td>\n",
       "      <td>session_38</td>\n",
       "      <td>mobile</td>\n",
       "      <td>https://example.com/homepage</td>\n",
       "      <td>165</td>\n",
       "    </tr>\n",
       "    <tr>\n",
       "      <th>4</th>\n",
       "      <td>user_253</td>\n",
       "      <td>2025-04-27 18:47:41.719578</td>\n",
       "      <td>homepage_view</td>\n",
       "      <td>session_89</td>\n",
       "      <td>tablet</td>\n",
       "      <td>https://example.com/homepage</td>\n",
       "      <td>174</td>\n",
       "    </tr>\n",
       "  </tbody>\n",
       "</table>\n",
       "</div>"
      ],
      "text/plain": [
       "    user_id                  timestamp         event_name  session_id  device  \\\n",
       "0  user_103 2025-04-26 13:47:41.718266  purchase_complete  session_52  tablet   \n",
       "1  user_615 2025-05-05 06:47:41.718715      homepage_view  session_83  tablet   \n",
       "2  user_872 2025-05-01 22:47:41.719023      product_click  session_24  mobile   \n",
       "3  user_414 2025-05-13 12:47:41.719306      homepage_view  session_38  mobile   \n",
       "4  user_253 2025-04-27 18:47:41.719578      homepage_view  session_89  tablet   \n",
       "\n",
       "                       page_url  duration  \n",
       "0  https://example.com/purchase        76  \n",
       "1  https://example.com/homepage        92  \n",
       "2   https://example.com/product         6  \n",
       "3  https://example.com/homepage       165  \n",
       "4  https://example.com/homepage       174  "
      ]
     },
     "execution_count": 2,
     "metadata": {},
     "output_type": "execute_result"
    }
   ],
   "source": [
    "import pandas as pd\n",
    "\n",
    "# Dosya yolu (senin daha önce oluşturduğun dosya)\n",
    "file_path = \"funnel_data.csv\"\n",
    "\n",
    "# CSV'yi oku\n",
    "df = pd.read_csv(\"funnel_data.csv\")\n",
    "\n",
    "# timestamp sütununu datetime formatına çevir\n",
    "df['timestamp'] = pd.to_datetime(df['timestamp'])\n",
    "\n",
    "# İlk 5 satırı görüntüle\n",
    "df.head()\n"
   ]
  },
  {
   "cell_type": "code",
   "execution_count": 3,
   "id": "9fc7b031",
   "metadata": {},
   "outputs": [],
   "source": [
    "#  eventleri zaman sırasına göre sıralıyiriq\n",
    "df_sorted = df.sort_values(by=[\"user_id\", \"timestamp\"])"
   ]
  },
  {
   "cell_type": "code",
   "execution_count": 4,
   "id": "b9287431",
   "metadata": {},
   "outputs": [],
   "source": [
    "# Hansi event'leri funnel addımı olaraq isttifade edeceyimize qerar veririk\n",
    "step1 = 'homepage_view'\n",
    "step2 = 'product_click'\n",
    "step3 = 'purchase_complete'"
   ]
  },
  {
   "cell_type": "code",
   "execution_count": 5,
   "id": "5ac095d5",
   "metadata": {},
   "outputs": [],
   "source": [
    "# Her addımı eden userler\n",
    "homepage_users = set(df_sorted[df_sorted[\"event_name\"] == step1]['user_id'])\n",
    "product_click_users = set(df_sorted[df_sorted['event_name'] == step2]['user_id'])\n",
    "purchase_users = set(df_sorted[df_sorted['event_name'] == step3]['user_id'])"
   ]
  },
  {
   "cell_type": "code",
   "execution_count": 6,
   "id": "5f45e569",
   "metadata": {},
   "outputs": [],
   "source": [
    "# funneli teqib eden userler: step1 → step2 → step3\n",
    "step1_total = len(homepage_users)\n",
    "step2_total = len(homepage_users & product_click_users)\n",
    "step3_total = len(homepage_users & product_click_users & purchase_users)"
   ]
  },
  {
   "cell_type": "code",
   "execution_count": 7,
   "id": "02988574",
   "metadata": {},
   "outputs": [],
   "source": [
    "# Her aşamanın kecid derecesi\n",
    "step2_rate = (step2_total / step1_total) * 100 if step1_total > 0 else 0\n",
    "step3_rate = (step3_total / step1_total) * 100 if step1_total > 0 else 0"
   ]
  },
  {
   "cell_type": "code",
   "execution_count": 8,
   "id": "55834a6b",
   "metadata": {},
   "outputs": [
    {
     "name": "stdout",
     "output_type": "stream",
     "text": [
      "Addim 1 (homepage_view): 986 istifadeci\n",
      "Addim 2 (product_click): 937 istifadeci\n",
      "Addim 3 (purchase_complete): 377 istifadeci\n",
      "Conversion: Homepage → Product Click =  95.03 %\n",
      "Conversion: Homepage → Purchase =  38.24 %\n"
     ]
    }
   ],
   "source": [
    "print(\"Addim 1 (homepage_view):\", step1_total, \"istifadeci\")\n",
    "print(\"Addim 2 (product_click):\", step2_total, \"istifadeci\")\n",
    "print(\"Addim 3 (purchase_complete):\", step3_total, \"istifadeci\")\n",
    "print(\"Conversion: Homepage → Product Click = \", round(step2_rate, 2), \"%\")\n",
    "print(\"Conversion: Homepage → Purchase = \", round(step3_rate, 2), \"%\")"
   ]
  },
  {
   "cell_type": "code",
   "execution_count": 10,
   "id": "43cdfe5c",
   "metadata": {},
   "outputs": [],
   "source": [
    "drop_step1 = homepage_users - product_click_users"
   ]
  },
  {
   "cell_type": "code",
   "execution_count": null,
   "id": "6bbcf80d",
   "metadata": {},
   "outputs": [],
   "source": [
    "step2_candidates = homepage_users & product_click_users\n",
    "drop_step2 = step2_candidates - purchase_users"
   ]
  },
  {
   "cell_type": "code",
   "execution_count": 12,
   "id": "921ea3a0",
   "metadata": {},
   "outputs": [],
   "source": [
    "drop_step1_count = len(drop_step1)\n",
    "drop_step2_count = len(drop_step2)"
   ]
  },
  {
   "cell_type": "code",
   "execution_count": 13,
   "id": "f2402e2e",
   "metadata": {},
   "outputs": [],
   "source": [
    "drop_step1_rate = (drop_step1_count / step1_total) * 100\n",
    "drop_step2_rate = (drop_step2_count / step2_total) * 100"
   ]
  },
  {
   "cell_type": "code",
   "execution_count": 15,
   "id": "2533f520",
   "metadata": {},
   "outputs": [
    {
     "name": "stdout",
     "output_type": "stream",
     "text": [
      "drop_step1_rate: 5\n",
      "drop_step2_rate: 60\n"
     ]
    }
   ],
   "source": [
    "print(f\"drop_step1_rate: {round(drop_step1_rate)}\")\n",
    "print(f\"drop_step2_rate: {round(drop_step2_rate)}\")"
   ]
  }
 ],
 "metadata": {
  "kernelspec": {
   "display_name": "Python 3",
   "language": "python",
   "name": "python3"
  },
  "language_info": {
   "codemirror_mode": {
    "name": "ipython",
    "version": 3
   },
   "file_extension": ".py",
   "mimetype": "text/x-python",
   "name": "python",
   "nbconvert_exporter": "python",
   "pygments_lexer": "ipython3",
   "version": "3.13.2"
  }
 },
 "nbformat": 4,
 "nbformat_minor": 5
}
