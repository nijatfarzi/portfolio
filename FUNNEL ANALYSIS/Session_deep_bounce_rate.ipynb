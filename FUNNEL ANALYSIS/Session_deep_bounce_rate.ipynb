{
 "cells": [
  {
   "cell_type": "code",
   "execution_count": 3,
   "id": "79ea9fd8",
   "metadata": {},
   "outputs": [],
   "source": [
    "import pandas as pd\n",
    "\n",
    "df = pd.read_csv(\"funnel_data.csv\")\n",
    "\n",
    "df[\"timestamp\"] = pd.to_datetime(df[\"timestamp\"])"
   ]
  },
  {
   "cell_type": "code",
   "execution_count": 6,
   "id": "7ec490bc",
   "metadata": {},
   "outputs": [],
   "source": [
    "session_duration = df.groupby('session_id')['timestamp'].agg(lambda x: (x.max() - x.min()).seconds)"
   ]
  },
  {
   "cell_type": "code",
   "execution_count": 5,
   "id": "95433b37",
   "metadata": {},
   "outputs": [
    {
     "data": {
      "text/plain": [
       "Index(['user_id', 'timestamp', 'event_name', 'session_id', 'device',\n",
       "       'page_url', 'duration'],\n",
       "      dtype='object')"
      ]
     },
     "execution_count": 5,
     "metadata": {},
     "output_type": "execute_result"
    }
   ],
   "source": [
    "page_depth = df.groupby(\"session_id\")[\"page_url\"].nunique()\n",
    "df.columns"
   ]
  },
  {
   "cell_type": "code",
   "execution_count": 9,
   "id": "b041c5a3",
   "metadata": {},
   "outputs": [
    {
     "data": {
      "text/plain": [
       "np.float64(0.0)"
      ]
     },
     "execution_count": 9,
     "metadata": {},
     "output_type": "execute_result"
    }
   ],
   "source": [
    "# Bounce Rate = (Tek sayfa ziyaret eden oturum sayısı / Toplam oturum sayısı) × 100\n",
    "page_counts = df.groupby('session_id')['page_url'].count()\n",
    "bounced_sessions = page_counts[page_counts == 1].count()\n",
    "total_sessions = page_counts.count()\n",
    "bounce_rate = (bounced_sessions / total_sessions) * 100\n",
    "\n",
    "bounce_rate"
   ]
  }
 ],
 "metadata": {
  "kernelspec": {
   "display_name": "Python 3",
   "language": "python",
   "name": "python3"
  },
  "language_info": {
   "codemirror_mode": {
    "name": "ipython",
    "version": 3
   },
   "file_extension": ".py",
   "mimetype": "text/x-python",
   "name": "python",
   "nbconvert_exporter": "python",
   "pygments_lexer": "ipython3",
   "version": "3.13.2"
  }
 },
 "nbformat": 4,
 "nbformat_minor": 5
}
