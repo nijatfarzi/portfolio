{
 "cells": [
  {
   "cell_type": "code",
   "execution_count": 5,
   "id": "1926b81b",
   "metadata": {},
   "outputs": [],
   "source": [
    "import pandas as pd\n",
    "\n",
    "df = pd.read_csv(\"funnel_data.csv\")\n",
    "df.columns\n",
    "df[\"timestamp\"] = pd.to_datetime(df[\"timestamp\"])"
   ]
  },
  {
   "cell_type": "code",
   "execution_count": null,
   "id": "92193174",
   "metadata": {},
   "outputs": [
    {
     "data": {
      "text/plain": [
       "Index(['user_id', 'timestamp', 'event_name', 'session_id', 'device',\n",
       "       'page_url', 'duration'],\n",
       "      dtype='object')"
      ]
     },
     "execution_count": 4,
     "metadata": {},
     "output_type": "execute_result"
    }
   ],
   "source": [
    "df_sorted = df.sort_values([\"user_id\",\"timestamp\"])"
   ]
  },
  {
   "cell_type": "code",
   "execution_count": 8,
   "id": "fa6cd78c",
   "metadata": {},
   "outputs": [
    {
     "data": {
      "text/html": [
       "<div>\n",
       "<style scoped>\n",
       "    .dataframe tbody tr th:only-of-type {\n",
       "        vertical-align: middle;\n",
       "    }\n",
       "\n",
       "    .dataframe tbody tr th {\n",
       "        vertical-align: top;\n",
       "    }\n",
       "\n",
       "    .dataframe thead th {\n",
       "        text-align: right;\n",
       "    }\n",
       "</style>\n",
       "<table border=\"1\" class=\"dataframe\">\n",
       "  <thead>\n",
       "    <tr style=\"text-align: right;\">\n",
       "      <th></th>\n",
       "      <th>user_id</th>\n",
       "      <th>event_path</th>\n",
       "    </tr>\n",
       "  </thead>\n",
       "  <tbody>\n",
       "    <tr>\n",
       "      <th>0</th>\n",
       "      <td>user_1</td>\n",
       "      <td>homepage_view → homepage_view → cart_add → hom...</td>\n",
       "    </tr>\n",
       "    <tr>\n",
       "      <th>1</th>\n",
       "      <td>user_10</td>\n",
       "      <td>cart_add → cart_add → homepage_view → product_...</td>\n",
       "    </tr>\n",
       "    <tr>\n",
       "      <th>2</th>\n",
       "      <td>user_100</td>\n",
       "      <td>cart_add → homepage_view → homepage_view → pur...</td>\n",
       "    </tr>\n",
       "    <tr>\n",
       "      <th>3</th>\n",
       "      <td>user_1000</td>\n",
       "      <td>homepage_view → checkout_start → homepage_view...</td>\n",
       "    </tr>\n",
       "    <tr>\n",
       "      <th>4</th>\n",
       "      <td>user_101</td>\n",
       "      <td>product_click → homepage_view → homepage_view ...</td>\n",
       "    </tr>\n",
       "  </tbody>\n",
       "</table>\n",
       "</div>"
      ],
      "text/plain": [
       "     user_id                                         event_path\n",
       "0     user_1  homepage_view → homepage_view → cart_add → hom...\n",
       "1    user_10  cart_add → cart_add → homepage_view → product_...\n",
       "2   user_100  cart_add → homepage_view → homepage_view → pur...\n",
       "3  user_1000  homepage_view → checkout_start → homepage_view...\n",
       "4   user_101  product_click → homepage_view → homepage_view ..."
      ]
     },
     "execution_count": 8,
     "metadata": {},
     "output_type": "execute_result"
    }
   ],
   "source": [
    "journey_df = df_sorted.groupby(\"user_id\")[\"event_name\"].apply(lambda x: ' → '.join(x)).reset_index()\n",
    "journey_df.columns = [\"user_id\",\"event_path\"]\n",
    "journey_df.head()"
   ]
  },
  {
   "cell_type": "markdown",
   "id": "5fad510b",
   "metadata": {},
   "source": [
    "# Segmentation"
   ]
  },
  {
   "cell_type": "code",
   "execution_count": null,
   "id": "992c3e8b",
   "metadata": {},
   "outputs": [],
   "source": [
    "def segment_user(path):\n",
    "    if 'purchase_complete' in path:\n",
    "        return 'Purchaser'\n",
    "    elif 'cart_add' in path:\n",
    "        return 'Cart Abandoner'\n",
    "    elif 'product_click' in path:\n",
    "        return 'Interested Visitor'\n",
    "    elif 'homepage_view' in path:\n",
    "        return 'Bouncer'\n",
    "    else:\n",
    "        return 'Undefined'\n"
   ]
  },
  {
   "cell_type": "code",
   "execution_count": 11,
   "id": "e9c1d291",
   "metadata": {},
   "outputs": [
    {
     "data": {
      "text/html": [
       "<div>\n",
       "<style scoped>\n",
       "    .dataframe tbody tr th:only-of-type {\n",
       "        vertical-align: middle;\n",
       "    }\n",
       "\n",
       "    .dataframe tbody tr th {\n",
       "        vertical-align: top;\n",
       "    }\n",
       "\n",
       "    .dataframe thead th {\n",
       "        text-align: right;\n",
       "    }\n",
       "</style>\n",
       "<table border=\"1\" class=\"dataframe\">\n",
       "  <thead>\n",
       "    <tr style=\"text-align: right;\">\n",
       "      <th></th>\n",
       "      <th>user_id</th>\n",
       "      <th>event_path</th>\n",
       "      <th>segment</th>\n",
       "    </tr>\n",
       "  </thead>\n",
       "  <tbody>\n",
       "    <tr>\n",
       "      <th>0</th>\n",
       "      <td>user_1</td>\n",
       "      <td>homepage_view → homepage_view → cart_add → hom...</td>\n",
       "      <td>Interested Visitor</td>\n",
       "    </tr>\n",
       "    <tr>\n",
       "      <th>1</th>\n",
       "      <td>user_10</td>\n",
       "      <td>cart_add → cart_add → homepage_view → product_...</td>\n",
       "      <td>Interested Visitor</td>\n",
       "    </tr>\n",
       "    <tr>\n",
       "      <th>2</th>\n",
       "      <td>user_100</td>\n",
       "      <td>cart_add → homepage_view → homepage_view → pur...</td>\n",
       "      <td>Purchaser</td>\n",
       "    </tr>\n",
       "    <tr>\n",
       "      <th>3</th>\n",
       "      <td>user_1000</td>\n",
       "      <td>homepage_view → checkout_start → homepage_view...</td>\n",
       "      <td>Purchaser</td>\n",
       "    </tr>\n",
       "    <tr>\n",
       "      <th>4</th>\n",
       "      <td>user_101</td>\n",
       "      <td>product_click → homepage_view → homepage_view ...</td>\n",
       "      <td>Interested Visitor</td>\n",
       "    </tr>\n",
       "  </tbody>\n",
       "</table>\n",
       "</div>"
      ],
      "text/plain": [
       "     user_id                                         event_path  \\\n",
       "0     user_1  homepage_view → homepage_view → cart_add → hom...   \n",
       "1    user_10  cart_add → cart_add → homepage_view → product_...   \n",
       "2   user_100  cart_add → homepage_view → homepage_view → pur...   \n",
       "3  user_1000  homepage_view → checkout_start → homepage_view...   \n",
       "4   user_101  product_click → homepage_view → homepage_view ...   \n",
       "\n",
       "              segment  \n",
       "0  Interested Visitor  \n",
       "1  Interested Visitor  \n",
       "2           Purchaser  \n",
       "3           Purchaser  \n",
       "4  Interested Visitor  "
      ]
     },
     "execution_count": 11,
     "metadata": {},
     "output_type": "execute_result"
    }
   ],
   "source": [
    "journey_df['segment'] = journey_df[\"event_path\"].apply(segment_user)\n",
    "journey_df.head()"
   ]
  }
 ],
 "metadata": {
  "kernelspec": {
   "display_name": "Python 3",
   "language": "python",
   "name": "python3"
  },
  "language_info": {
   "codemirror_mode": {
    "name": "ipython",
    "version": 3
   },
   "file_extension": ".py",
   "mimetype": "text/x-python",
   "name": "python",
   "nbconvert_exporter": "python",
   "pygments_lexer": "ipython3",
   "version": "3.13.2"
  }
 },
 "nbformat": 4,
 "nbformat_minor": 5
}
