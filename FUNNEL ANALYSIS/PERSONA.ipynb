{
 "cells": [
  {
   "cell_type": "code",
   "execution_count": 2,
   "id": "29580602",
   "metadata": {},
   "outputs": [
    {
     "data": {
      "text/plain": [
       "Index(['user_id', 'timestamp', 'event_name', 'session_id', 'device',\n",
       "       'page_url', 'duration'],\n",
       "      dtype='object')"
      ]
     },
     "execution_count": 2,
     "metadata": {},
     "output_type": "execute_result"
    }
   ],
   "source": [
    "import pandas as pd\n",
    "\n",
    "df = pd.read_csv(\"funnel_data.csv\")\n",
    "\n",
    "df[\"timestamp\"] = pd.to_datetime(df[\"timestamp\"])\n",
    "df_sorted = df.sort_values([\"user_id\",\"timestamp\"])\n",
    "df.columns"
   ]
  },
  {
   "cell_type": "markdown",
   "id": "f427434a",
   "metadata": {},
   "source": [
    "# Journey and Segmentation"
   ]
  },
  {
   "cell_type": "code",
   "execution_count": 19,
   "id": "cdc2b020",
   "metadata": {},
   "outputs": [
    {
     "data": {
      "text/html": [
       "<div>\n",
       "<style scoped>\n",
       "    .dataframe tbody tr th:only-of-type {\n",
       "        vertical-align: middle;\n",
       "    }\n",
       "\n",
       "    .dataframe tbody tr th {\n",
       "        vertical-align: top;\n",
       "    }\n",
       "\n",
       "    .dataframe thead th {\n",
       "        text-align: right;\n",
       "    }\n",
       "</style>\n",
       "<table border=\"1\" class=\"dataframe\">\n",
       "  <thead>\n",
       "    <tr style=\"text-align: right;\">\n",
       "      <th></th>\n",
       "      <th>user_id</th>\n",
       "      <th>event_path</th>\n",
       "      <th>segment</th>\n",
       "    </tr>\n",
       "  </thead>\n",
       "  <tbody>\n",
       "    <tr>\n",
       "      <th>0</th>\n",
       "      <td>user_1</td>\n",
       "      <td>homepage_view → homepage_view → cart_add → hom...</td>\n",
       "      <td>Cart Abandoner</td>\n",
       "    </tr>\n",
       "    <tr>\n",
       "      <th>1</th>\n",
       "      <td>user_10</td>\n",
       "      <td>cart_add → cart_add → homepage_view → product_...</td>\n",
       "      <td>Cart Abandoner</td>\n",
       "    </tr>\n",
       "    <tr>\n",
       "      <th>2</th>\n",
       "      <td>user_100</td>\n",
       "      <td>cart_add → homepage_view → homepage_view → pur...</td>\n",
       "      <td>Purchaser</td>\n",
       "    </tr>\n",
       "    <tr>\n",
       "      <th>3</th>\n",
       "      <td>user_1000</td>\n",
       "      <td>homepage_view → checkout_start → homepage_view...</td>\n",
       "      <td>Purchaser</td>\n",
       "    </tr>\n",
       "    <tr>\n",
       "      <th>4</th>\n",
       "      <td>user_101</td>\n",
       "      <td>product_click → homepage_view → homepage_view ...</td>\n",
       "      <td>Interested Visitor</td>\n",
       "    </tr>\n",
       "  </tbody>\n",
       "</table>\n",
       "</div>"
      ],
      "text/plain": [
       "     user_id                                         event_path  \\\n",
       "0     user_1  homepage_view → homepage_view → cart_add → hom...   \n",
       "1    user_10  cart_add → cart_add → homepage_view → product_...   \n",
       "2   user_100  cart_add → homepage_view → homepage_view → pur...   \n",
       "3  user_1000  homepage_view → checkout_start → homepage_view...   \n",
       "4   user_101  product_click → homepage_view → homepage_view ...   \n",
       "\n",
       "              segment  \n",
       "0      Cart Abandoner  \n",
       "1      Cart Abandoner  \n",
       "2           Purchaser  \n",
       "3           Purchaser  \n",
       "4  Interested Visitor  "
      ]
     },
     "execution_count": 19,
     "metadata": {},
     "output_type": "execute_result"
    }
   ],
   "source": [
    "\n",
    "journey_df = df_sorted.groupby('user_id')[\"event_name\"].apply(lambda x: \" → \".join(x)).reset_index()\n",
    "journey_df.columns = [\"user_id\",\"event_path\"]\n",
    "\n",
    "def segment_user(path):\n",
    "    if 'purchase_complete' in path:\n",
    "        return 'Purchaser'\n",
    "    elif 'cart_add' in path:\n",
    "        return 'Cart Abandoner'\n",
    "    elif 'product_click' in path:\n",
    "        return 'Interested Visitor'\n",
    "    elif 'homepage_view' in path:\n",
    "        return 'Bouncer'\n",
    "    else:\n",
    "        return 'Undefined'\n",
    "    \n",
    "journey_df['segment'] = journey_df[\"event_path\"].apply(segment_user)\n",
    "journey_df.head()"
   ]
  },
  {
   "cell_type": "markdown",
   "id": "8ef0718d",
   "metadata": {},
   "source": [
    "# PERSONA"
   ]
  },
  {
   "cell_type": "code",
   "execution_count": 27,
   "id": "bb75702b",
   "metadata": {},
   "outputs": [],
   "source": [
    "cart_users = journey_df[journey_df['segment'] == 'Cart Abandoner']\n",
    "\n",
    "cart_users_ids = set(cart_users['user_id'])\n",
    "\n",
    "cart_data = df[df['user_id'].isin(cart_users_ids)].copy()"
   ]
  },
  {
   "cell_type": "code",
   "execution_count": 29,
   "id": "694c7d51",
   "metadata": {},
   "outputs": [],
   "source": [
    "top_device = cart_data['device'].mode()[0]\n",
    "\n",
    "cart_data['hour'] = cart_data['timestamp'].dt.hour\n",
    "top_hour = cart_data['hour'].mode()[0]"
   ]
  },
  {
   "cell_type": "code",
   "execution_count": 34,
   "id": "59ad7f97",
   "metadata": {},
   "outputs": [],
   "source": [
    "top_event = cart_data['event_name'].mode()[0]\n",
    "avg_duration = round(cart_data['duration'].mean())\n",
    "top_location = cart_data['location'].mode()[0] if 'location' in cart_data.columns else 'Unknown'"
   ]
  },
  {
   "cell_type": "code",
   "execution_count": 40,
   "id": "bd13916b",
   "metadata": {},
   "outputs": [
    {
     "name": "stdout",
     "output_type": "stream",
     "text": [
      "Adı            : Sepetçi Seda\n",
      "Segment        : Cart Abandoner\n",
      "Cihaz          : desktop\n",
      "En Aktif Saat  : 8:00 civarı\n",
      "Ortalama sure  : 93 dakika\n",
      "Davranış       : En sık yaptığı event: homepage_view\n",
      "Lokasyon       : Unknown\n",
      "Strateji       : Sepet hatırlatma maili + indirim önerisi\n"
     ]
    }
   ],
   "source": [
    "persona = {\n",
    "    \"Adı\": \"Sepetçi Seda\",\n",
    "    \"Segment\": \"Cart Abandoner\",\n",
    "    \"Cihaz\": top_device,\n",
    "    \"En Aktif Saat\": f\"{top_hour}:00 civarı\",\n",
    "    \"Ortalama sure\": f\"{avg_duration} dakika\",\n",
    "    \"Davranış\": f\"En sık yaptığı event: {top_event}\",\n",
    "    \"Lokasyon\": top_location,\n",
    "    \"Strateji\": \"Sepet hatırlatma maili + indirim önerisi\"\n",
    "}\n",
    "# print(persona)\n",
    "\n",
    "for k, v in persona.items():\n",
    "    print(f\"{k:<15}: {v}\")\n",
    "\n"
   ]
  }
 ],
 "metadata": {
  "kernelspec": {
   "display_name": "Python 3",
   "language": "python",
   "name": "python3"
  },
  "language_info": {
   "codemirror_mode": {
    "name": "ipython",
    "version": 3
   },
   "file_extension": ".py",
   "mimetype": "text/x-python",
   "name": "python",
   "nbconvert_exporter": "python",
   "pygments_lexer": "ipython3",
   "version": "3.13.2"
  }
 },
 "nbformat": 4,
 "nbformat_minor": 5
}
